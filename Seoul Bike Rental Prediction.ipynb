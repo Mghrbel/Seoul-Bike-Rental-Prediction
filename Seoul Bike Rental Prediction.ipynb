{
 "cells": [
  {
   "cell_type": "code",
   "execution_count": 1,
   "id": "73ba8e88",
   "metadata": {
    "execution": {
     "iopub.execute_input": "2021-08-30T15:56:23.519120Z",
     "iopub.status.busy": "2021-08-30T15:56:23.517942Z",
     "iopub.status.idle": "2021-08-30T15:56:25.458364Z",
     "shell.execute_reply": "2021-08-30T15:56:25.457495Z",
     "shell.execute_reply.started": "2021-08-30T15:55:29.883935Z"
    },
    "papermill": {
     "duration": 1.986845,
     "end_time": "2021-08-30T15:56:25.458558",
     "exception": false,
     "start_time": "2021-08-30T15:56:23.471713",
     "status": "completed"
    },
    "tags": []
   },
   "outputs": [],
   "source": [
    "import numpy as np\n",
    "import pandas as pd\n",
    "import seaborn as sns\n",
    "import os\n",
    "import matplotlib.pyplot as plt\n",
    "import statsmodels.api as sm\n",
    "import statsmodels.formula.api as smf\n",
    "from statsmodels.graphics.gofplots import ProbPlot\n",
    "%matplotlib inline\n",
    "from sklearn.metrics import mean_squared_log_error"
   ]
  },
  {
   "cell_type": "code",
   "execution_count": 2,
   "id": "28b656a0",
   "metadata": {
    "execution": {
     "iopub.execute_input": "2021-08-30T15:56:25.557620Z",
     "iopub.status.busy": "2021-08-30T15:56:25.556761Z",
     "iopub.status.idle": "2021-08-30T15:56:25.618673Z",
     "shell.execute_reply": "2021-08-30T15:56:25.618115Z",
     "shell.execute_reply.started": "2021-08-30T15:55:29.952280Z"
    },
    "papermill": {
     "duration": 0.109053,
     "end_time": "2021-08-30T15:56:25.618825",
     "exception": false,
     "start_time": "2021-08-30T15:56:25.509772",
     "status": "completed"
    },
    "tags": []
   },
   "outputs": [
    {
     "data": {
      "text/html": [
       "<div>\n",
       "<style scoped>\n",
       "    .dataframe tbody tr th:only-of-type {\n",
       "        vertical-align: middle;\n",
       "    }\n",
       "\n",
       "    .dataframe tbody tr th {\n",
       "        vertical-align: top;\n",
       "    }\n",
       "\n",
       "    .dataframe thead th {\n",
       "        text-align: right;\n",
       "    }\n",
       "</style>\n",
       "<table border=\"1\" class=\"dataframe\">\n",
       "  <thead>\n",
       "    <tr style=\"text-align: right;\">\n",
       "      <th></th>\n",
       "      <th>ID</th>\n",
       "      <th>Date</th>\n",
       "      <th>y</th>\n",
       "      <th>Hour</th>\n",
       "      <th>Temperature(�C)</th>\n",
       "      <th>Humidity(%)</th>\n",
       "      <th>Wind speed (m/s)</th>\n",
       "      <th>Visibility (10m)</th>\n",
       "      <th>Dew point temperature(�C)</th>\n",
       "      <th>Solar Radiation (MJ/m2)</th>\n",
       "      <th>Rainfall(mm)</th>\n",
       "      <th>Snowfall (cm)</th>\n",
       "      <th>Seasons</th>\n",
       "      <th>Holiday</th>\n",
       "      <th>Functioning Day</th>\n",
       "    </tr>\n",
       "  </thead>\n",
       "  <tbody>\n",
       "    <tr>\n",
       "      <th>0</th>\n",
       "      <td>0</td>\n",
       "      <td>01/12/2017</td>\n",
       "      <td>254</td>\n",
       "      <td>0</td>\n",
       "      <td>-5.2</td>\n",
       "      <td>37</td>\n",
       "      <td>2.2</td>\n",
       "      <td>2000</td>\n",
       "      <td>-17.6</td>\n",
       "      <td>0.0</td>\n",
       "      <td>0.0</td>\n",
       "      <td>0.0</td>\n",
       "      <td>Winter</td>\n",
       "      <td>No Holiday</td>\n",
       "      <td>Yes</td>\n",
       "    </tr>\n",
       "    <tr>\n",
       "      <th>1</th>\n",
       "      <td>1</td>\n",
       "      <td>01/12/2017</td>\n",
       "      <td>204</td>\n",
       "      <td>1</td>\n",
       "      <td>-5.5</td>\n",
       "      <td>38</td>\n",
       "      <td>0.8</td>\n",
       "      <td>2000</td>\n",
       "      <td>-17.6</td>\n",
       "      <td>0.0</td>\n",
       "      <td>0.0</td>\n",
       "      <td>0.0</td>\n",
       "      <td>Winter</td>\n",
       "      <td>No Holiday</td>\n",
       "      <td>Yes</td>\n",
       "    </tr>\n",
       "    <tr>\n",
       "      <th>2</th>\n",
       "      <td>2</td>\n",
       "      <td>01/12/2017</td>\n",
       "      <td>173</td>\n",
       "      <td>2</td>\n",
       "      <td>-6.0</td>\n",
       "      <td>39</td>\n",
       "      <td>1.0</td>\n",
       "      <td>2000</td>\n",
       "      <td>-17.7</td>\n",
       "      <td>0.0</td>\n",
       "      <td>0.0</td>\n",
       "      <td>0.0</td>\n",
       "      <td>Winter</td>\n",
       "      <td>No Holiday</td>\n",
       "      <td>Yes</td>\n",
       "    </tr>\n",
       "    <tr>\n",
       "      <th>3</th>\n",
       "      <td>3</td>\n",
       "      <td>01/12/2017</td>\n",
       "      <td>107</td>\n",
       "      <td>3</td>\n",
       "      <td>-6.2</td>\n",
       "      <td>40</td>\n",
       "      <td>0.9</td>\n",
       "      <td>2000</td>\n",
       "      <td>-17.6</td>\n",
       "      <td>0.0</td>\n",
       "      <td>0.0</td>\n",
       "      <td>0.0</td>\n",
       "      <td>Winter</td>\n",
       "      <td>No Holiday</td>\n",
       "      <td>Yes</td>\n",
       "    </tr>\n",
       "    <tr>\n",
       "      <th>4</th>\n",
       "      <td>4</td>\n",
       "      <td>01/12/2017</td>\n",
       "      <td>78</td>\n",
       "      <td>4</td>\n",
       "      <td>-6.0</td>\n",
       "      <td>36</td>\n",
       "      <td>2.3</td>\n",
       "      <td>2000</td>\n",
       "      <td>-18.6</td>\n",
       "      <td>0.0</td>\n",
       "      <td>0.0</td>\n",
       "      <td>0.0</td>\n",
       "      <td>Winter</td>\n",
       "      <td>No Holiday</td>\n",
       "      <td>Yes</td>\n",
       "    </tr>\n",
       "  </tbody>\n",
       "</table>\n",
       "</div>"
      ],
      "text/plain": [
       "   ID        Date    y  Hour  Temperature(�C)  Humidity(%)  Wind speed (m/s)  \\\n",
       "0   0  01/12/2017  254     0             -5.2           37               2.2   \n",
       "1   1  01/12/2017  204     1             -5.5           38               0.8   \n",
       "2   2  01/12/2017  173     2             -6.0           39               1.0   \n",
       "3   3  01/12/2017  107     3             -6.2           40               0.9   \n",
       "4   4  01/12/2017   78     4             -6.0           36               2.3   \n",
       "\n",
       "   Visibility (10m)  Dew point temperature(�C)  Solar Radiation (MJ/m2)  \\\n",
       "0              2000                      -17.6                      0.0   \n",
       "1              2000                      -17.6                      0.0   \n",
       "2              2000                      -17.7                      0.0   \n",
       "3              2000                      -17.6                      0.0   \n",
       "4              2000                      -18.6                      0.0   \n",
       "\n",
       "   Rainfall(mm)  Snowfall (cm) Seasons     Holiday Functioning Day  \n",
       "0           0.0            0.0  Winter  No Holiday             Yes  \n",
       "1           0.0            0.0  Winter  No Holiday             Yes  \n",
       "2           0.0            0.0  Winter  No Holiday             Yes  \n",
       "3           0.0            0.0  Winter  No Holiday             Yes  \n",
       "4           0.0            0.0  Winter  No Holiday             Yes  "
      ]
     },
     "execution_count": 2,
     "metadata": {},
     "output_type": "execute_result"
    }
   ],
   "source": [
    "train_df=pd.read_csv(\"/kaggle/input/seoul-bike-rental-ai-pro-iti/train.csv\")\n",
    "train_df.head()"
   ]
  },
  {
   "cell_type": "code",
   "execution_count": 3,
   "id": "c5011250",
   "metadata": {
    "execution": {
     "iopub.execute_input": "2021-08-30T15:56:25.729727Z",
     "iopub.status.busy": "2021-08-30T15:56:25.728761Z",
     "iopub.status.idle": "2021-08-30T15:56:25.732887Z",
     "shell.execute_reply": "2021-08-30T15:56:25.733355Z",
     "shell.execute_reply.started": "2021-08-30T15:55:30.044549Z"
    },
    "papermill": {
     "duration": 0.071413,
     "end_time": "2021-08-30T15:56:25.733536",
     "exception": false,
     "start_time": "2021-08-30T15:56:25.662123",
     "status": "completed"
    },
    "tags": []
   },
   "outputs": [
    {
     "data": {
      "text/html": [
       "<div>\n",
       "<style scoped>\n",
       "    .dataframe tbody tr th:only-of-type {\n",
       "        vertical-align: middle;\n",
       "    }\n",
       "\n",
       "    .dataframe tbody tr th {\n",
       "        vertical-align: top;\n",
       "    }\n",
       "\n",
       "    .dataframe thead th {\n",
       "        text-align: right;\n",
       "    }\n",
       "</style>\n",
       "<table border=\"1\" class=\"dataframe\">\n",
       "  <thead>\n",
       "    <tr style=\"text-align: right;\">\n",
       "      <th></th>\n",
       "      <th>ID</th>\n",
       "      <th>Date</th>\n",
       "      <th>y</th>\n",
       "      <th>Hour</th>\n",
       "      <th>Temperature(�C)</th>\n",
       "      <th>Humidity(%)</th>\n",
       "      <th>Wind speed (m/s)</th>\n",
       "      <th>Visibility (10m)</th>\n",
       "      <th>Dew point temperature(�C)</th>\n",
       "      <th>Solar Radiation (MJ/m2)</th>\n",
       "      <th>Rainfall(mm)</th>\n",
       "      <th>Snowfall (cm)</th>\n",
       "      <th>Seasons</th>\n",
       "      <th>Holiday</th>\n",
       "      <th>Functioning Day</th>\n",
       "    </tr>\n",
       "  </thead>\n",
       "  <tbody>\n",
       "    <tr>\n",
       "      <th>0</th>\n",
       "      <td>0</td>\n",
       "      <td>01/12/2017</td>\n",
       "      <td>254</td>\n",
       "      <td>0</td>\n",
       "      <td>-5.2</td>\n",
       "      <td>37</td>\n",
       "      <td>2.2</td>\n",
       "      <td>2000</td>\n",
       "      <td>-17.6</td>\n",
       "      <td>0.0</td>\n",
       "      <td>0.0</td>\n",
       "      <td>0.0</td>\n",
       "      <td>Winter</td>\n",
       "      <td>No Holiday</td>\n",
       "      <td>Yes</td>\n",
       "    </tr>\n",
       "    <tr>\n",
       "      <th>1</th>\n",
       "      <td>1</td>\n",
       "      <td>01/12/2017</td>\n",
       "      <td>204</td>\n",
       "      <td>1</td>\n",
       "      <td>-5.5</td>\n",
       "      <td>38</td>\n",
       "      <td>0.8</td>\n",
       "      <td>2000</td>\n",
       "      <td>-17.6</td>\n",
       "      <td>0.0</td>\n",
       "      <td>0.0</td>\n",
       "      <td>0.0</td>\n",
       "      <td>Winter</td>\n",
       "      <td>No Holiday</td>\n",
       "      <td>Yes</td>\n",
       "    </tr>\n",
       "    <tr>\n",
       "      <th>2</th>\n",
       "      <td>2</td>\n",
       "      <td>01/12/2017</td>\n",
       "      <td>173</td>\n",
       "      <td>2</td>\n",
       "      <td>-6.0</td>\n",
       "      <td>39</td>\n",
       "      <td>1.0</td>\n",
       "      <td>2000</td>\n",
       "      <td>-17.7</td>\n",
       "      <td>0.0</td>\n",
       "      <td>0.0</td>\n",
       "      <td>0.0</td>\n",
       "      <td>Winter</td>\n",
       "      <td>No Holiday</td>\n",
       "      <td>Yes</td>\n",
       "    </tr>\n",
       "    <tr>\n",
       "      <th>3</th>\n",
       "      <td>3</td>\n",
       "      <td>01/12/2017</td>\n",
       "      <td>107</td>\n",
       "      <td>3</td>\n",
       "      <td>-6.2</td>\n",
       "      <td>40</td>\n",
       "      <td>0.9</td>\n",
       "      <td>2000</td>\n",
       "      <td>-17.6</td>\n",
       "      <td>0.0</td>\n",
       "      <td>0.0</td>\n",
       "      <td>0.0</td>\n",
       "      <td>Winter</td>\n",
       "      <td>No Holiday</td>\n",
       "      <td>Yes</td>\n",
       "    </tr>\n",
       "    <tr>\n",
       "      <th>4</th>\n",
       "      <td>4</td>\n",
       "      <td>01/12/2017</td>\n",
       "      <td>78</td>\n",
       "      <td>4</td>\n",
       "      <td>-6.0</td>\n",
       "      <td>36</td>\n",
       "      <td>2.3</td>\n",
       "      <td>2000</td>\n",
       "      <td>-18.6</td>\n",
       "      <td>0.0</td>\n",
       "      <td>0.0</td>\n",
       "      <td>0.0</td>\n",
       "      <td>Winter</td>\n",
       "      <td>No Holiday</td>\n",
       "      <td>Yes</td>\n",
       "    </tr>\n",
       "  </tbody>\n",
       "</table>\n",
       "</div>"
      ],
      "text/plain": [
       "   ID        Date    y  Hour  Temperature(�C)  Humidity(%)  Wind speed (m/s)  \\\n",
       "0   0  01/12/2017  254     0             -5.2           37               2.2   \n",
       "1   1  01/12/2017  204     1             -5.5           38               0.8   \n",
       "2   2  01/12/2017  173     2             -6.0           39               1.0   \n",
       "3   3  01/12/2017  107     3             -6.2           40               0.9   \n",
       "4   4  01/12/2017   78     4             -6.0           36               2.3   \n",
       "\n",
       "   Visibility (10m)  Dew point temperature(�C)  Solar Radiation (MJ/m2)  \\\n",
       "0              2000                      -17.6                      0.0   \n",
       "1              2000                      -17.6                      0.0   \n",
       "2              2000                      -17.7                      0.0   \n",
       "3              2000                      -17.6                      0.0   \n",
       "4              2000                      -18.6                      0.0   \n",
       "\n",
       "   Rainfall(mm)  Snowfall (cm) Seasons     Holiday Functioning Day  \n",
       "0           0.0            0.0  Winter  No Holiday             Yes  \n",
       "1           0.0            0.0  Winter  No Holiday             Yes  \n",
       "2           0.0            0.0  Winter  No Holiday             Yes  \n",
       "3           0.0            0.0  Winter  No Holiday             Yes  \n",
       "4           0.0            0.0  Winter  No Holiday             Yes  "
      ]
     },
     "execution_count": 3,
     "metadata": {},
     "output_type": "execute_result"
    }
   ],
   "source": [
    "# Rename the column names with special characters\n",
    "def rename_col(df):\n",
    "    \n",
    "    df.rename(columns={'Temperature(�C)':'Temperature',\n",
    "                   'Humidity(%)':'Humidity',\n",
    "                   'Wind speed (m/s)':'Wind speed',\n",
    "                   'Dew point temperature(�C)':'Dew point temperature',\n",
    "                   'Solar Radiation (MJ/m2)':'Solar Radiation',\n",
    "                   'Visibility (10m)':'Visibility',\n",
    "                   'Rainfall(mm)':'Rainfall',\n",
    "                   'Snowfall (cm)':'Snowfall'},inplace=True)\n",
    "    \n",
    "train_df.head()"
   ]
  },
  {
   "cell_type": "code",
   "execution_count": 4,
   "id": "748322f5",
   "metadata": {
    "execution": {
     "iopub.execute_input": "2021-08-30T15:56:25.829412Z",
     "iopub.status.busy": "2021-08-30T15:56:25.828714Z",
     "iopub.status.idle": "2021-08-30T15:56:25.847112Z",
     "shell.execute_reply": "2021-08-30T15:56:25.846378Z",
     "shell.execute_reply.started": "2021-08-30T15:55:30.077598Z"
    },
    "papermill": {
     "duration": 0.069507,
     "end_time": "2021-08-30T15:56:25.847291",
     "exception": false,
     "start_time": "2021-08-30T15:56:25.777784",
     "status": "completed"
    },
    "tags": []
   },
   "outputs": [
    {
     "name": "stdout",
     "output_type": "stream",
     "text": [
      "<class 'pandas.core.frame.DataFrame'>\n",
      "RangeIndex: 5760 entries, 0 to 5759\n",
      "Data columns (total 15 columns):\n",
      " #   Column                     Non-Null Count  Dtype  \n",
      "---  ------                     --------------  -----  \n",
      " 0   ID                         5760 non-null   int64  \n",
      " 1   Date                       5760 non-null   object \n",
      " 2   y                          5760 non-null   int64  \n",
      " 3   Hour                       5760 non-null   int64  \n",
      " 4   Temperature(�C)            5760 non-null   float64\n",
      " 5   Humidity(%)                5760 non-null   int64  \n",
      " 6   Wind speed (m/s)           5760 non-null   float64\n",
      " 7   Visibility (10m)           5760 non-null   int64  \n",
      " 8   Dew point temperature(�C)  5760 non-null   float64\n",
      " 9   Solar Radiation (MJ/m2)    5760 non-null   float64\n",
      " 10  Rainfall(mm)               5760 non-null   float64\n",
      " 11  Snowfall (cm)              5760 non-null   float64\n",
      " 12  Seasons                    5760 non-null   object \n",
      " 13  Holiday                    5760 non-null   object \n",
      " 14  Functioning Day            5760 non-null   object \n",
      "dtypes: float64(6), int64(5), object(4)\n",
      "memory usage: 675.1+ KB\n"
     ]
    }
   ],
   "source": [
    "# first check the info and type of the columns\n",
    "train_df.info()"
   ]
  },
  {
   "cell_type": "code",
   "execution_count": 5,
   "id": "84986ab8",
   "metadata": {
    "execution": {
     "iopub.execute_input": "2021-08-30T15:56:25.941912Z",
     "iopub.status.busy": "2021-08-30T15:56:25.938629Z",
     "iopub.status.idle": "2021-08-30T15:56:25.984720Z",
     "shell.execute_reply": "2021-08-30T15:56:25.984211Z",
     "shell.execute_reply.started": "2021-08-30T15:55:30.688121Z"
    },
    "papermill": {
     "duration": 0.093405,
     "end_time": "2021-08-30T15:56:25.984859",
     "exception": false,
     "start_time": "2021-08-30T15:56:25.891454",
     "status": "completed"
    },
    "tags": []
   },
   "outputs": [
    {
     "data": {
      "text/html": [
       "<div>\n",
       "<style scoped>\n",
       "    .dataframe tbody tr th:only-of-type {\n",
       "        vertical-align: middle;\n",
       "    }\n",
       "\n",
       "    .dataframe tbody tr th {\n",
       "        vertical-align: top;\n",
       "    }\n",
       "\n",
       "    .dataframe thead th {\n",
       "        text-align: right;\n",
       "    }\n",
       "</style>\n",
       "<table border=\"1\" class=\"dataframe\">\n",
       "  <thead>\n",
       "    <tr style=\"text-align: right;\">\n",
       "      <th></th>\n",
       "      <th>ID</th>\n",
       "      <th>y</th>\n",
       "      <th>Hour</th>\n",
       "      <th>Temperature(�C)</th>\n",
       "      <th>Humidity(%)</th>\n",
       "      <th>Wind speed (m/s)</th>\n",
       "      <th>Visibility (10m)</th>\n",
       "      <th>Dew point temperature(�C)</th>\n",
       "      <th>Solar Radiation (MJ/m2)</th>\n",
       "      <th>Rainfall(mm)</th>\n",
       "      <th>Snowfall (cm)</th>\n",
       "    </tr>\n",
       "  </thead>\n",
       "  <tbody>\n",
       "    <tr>\n",
       "      <th>count</th>\n",
       "      <td>5760.000000</td>\n",
       "      <td>5760.000000</td>\n",
       "      <td>5760.000000</td>\n",
       "      <td>5760.000000</td>\n",
       "      <td>5760.000000</td>\n",
       "      <td>5760.000000</td>\n",
       "      <td>5760.000000</td>\n",
       "      <td>5760.000000</td>\n",
       "      <td>5760.000000</td>\n",
       "      <td>5760.000000</td>\n",
       "      <td>5760.000000</td>\n",
       "    </tr>\n",
       "    <tr>\n",
       "      <th>mean</th>\n",
       "      <td>2879.500000</td>\n",
       "      <td>703.483854</td>\n",
       "      <td>11.500000</td>\n",
       "      <td>12.803559</td>\n",
       "      <td>58.361806</td>\n",
       "      <td>1.723333</td>\n",
       "      <td>1473.711458</td>\n",
       "      <td>4.058264</td>\n",
       "      <td>0.572325</td>\n",
       "      <td>0.135122</td>\n",
       "      <td>0.046302</td>\n",
       "    </tr>\n",
       "    <tr>\n",
       "      <th>std</th>\n",
       "      <td>1662.913107</td>\n",
       "      <td>655.249491</td>\n",
       "      <td>6.922788</td>\n",
       "      <td>11.902206</td>\n",
       "      <td>19.840167</td>\n",
       "      <td>1.047898</td>\n",
       "      <td>585.879880</td>\n",
       "      <td>13.003582</td>\n",
       "      <td>0.869943</td>\n",
       "      <td>1.075320</td>\n",
       "      <td>0.323728</td>\n",
       "    </tr>\n",
       "    <tr>\n",
       "      <th>min</th>\n",
       "      <td>0.000000</td>\n",
       "      <td>0.000000</td>\n",
       "      <td>0.000000</td>\n",
       "      <td>-15.100000</td>\n",
       "      <td>0.000000</td>\n",
       "      <td>0.000000</td>\n",
       "      <td>27.000000</td>\n",
       "      <td>-26.900000</td>\n",
       "      <td>0.000000</td>\n",
       "      <td>0.000000</td>\n",
       "      <td>0.000000</td>\n",
       "    </tr>\n",
       "    <tr>\n",
       "      <th>25%</th>\n",
       "      <td>1439.750000</td>\n",
       "      <td>188.000000</td>\n",
       "      <td>5.750000</td>\n",
       "      <td>3.200000</td>\n",
       "      <td>43.000000</td>\n",
       "      <td>0.900000</td>\n",
       "      <td>1025.750000</td>\n",
       "      <td>-5.400000</td>\n",
       "      <td>0.000000</td>\n",
       "      <td>0.000000</td>\n",
       "      <td>0.000000</td>\n",
       "    </tr>\n",
       "    <tr>\n",
       "      <th>50%</th>\n",
       "      <td>2879.500000</td>\n",
       "      <td>485.500000</td>\n",
       "      <td>11.500000</td>\n",
       "      <td>13.700000</td>\n",
       "      <td>57.000000</td>\n",
       "      <td>1.500000</td>\n",
       "      <td>1732.000000</td>\n",
       "      <td>5.200000</td>\n",
       "      <td>0.010000</td>\n",
       "      <td>0.000000</td>\n",
       "      <td>0.000000</td>\n",
       "    </tr>\n",
       "    <tr>\n",
       "      <th>75%</th>\n",
       "      <td>4319.250000</td>\n",
       "      <td>1066.000000</td>\n",
       "      <td>17.250000</td>\n",
       "      <td>22.225000</td>\n",
       "      <td>73.000000</td>\n",
       "      <td>2.300000</td>\n",
       "      <td>2000.000000</td>\n",
       "      <td>14.700000</td>\n",
       "      <td>0.940000</td>\n",
       "      <td>0.000000</td>\n",
       "      <td>0.000000</td>\n",
       "    </tr>\n",
       "    <tr>\n",
       "      <th>max</th>\n",
       "      <td>5759.000000</td>\n",
       "      <td>3556.000000</td>\n",
       "      <td>23.000000</td>\n",
       "      <td>39.400000</td>\n",
       "      <td>98.000000</td>\n",
       "      <td>7.400000</td>\n",
       "      <td>2000.000000</td>\n",
       "      <td>27.200000</td>\n",
       "      <td>3.520000</td>\n",
       "      <td>35.000000</td>\n",
       "      <td>5.100000</td>\n",
       "    </tr>\n",
       "  </tbody>\n",
       "</table>\n",
       "</div>"
      ],
      "text/plain": [
       "                ID            y         Hour  Temperature(�C)  Humidity(%)  \\\n",
       "count  5760.000000  5760.000000  5760.000000      5760.000000  5760.000000   \n",
       "mean   2879.500000   703.483854    11.500000        12.803559    58.361806   \n",
       "std    1662.913107   655.249491     6.922788        11.902206    19.840167   \n",
       "min       0.000000     0.000000     0.000000       -15.100000     0.000000   \n",
       "25%    1439.750000   188.000000     5.750000         3.200000    43.000000   \n",
       "50%    2879.500000   485.500000    11.500000        13.700000    57.000000   \n",
       "75%    4319.250000  1066.000000    17.250000        22.225000    73.000000   \n",
       "max    5759.000000  3556.000000    23.000000        39.400000    98.000000   \n",
       "\n",
       "       Wind speed (m/s)  Visibility (10m)  Dew point temperature(�C)  \\\n",
       "count       5760.000000       5760.000000                5760.000000   \n",
       "mean           1.723333       1473.711458                   4.058264   \n",
       "std            1.047898        585.879880                  13.003582   \n",
       "min            0.000000         27.000000                 -26.900000   \n",
       "25%            0.900000       1025.750000                  -5.400000   \n",
       "50%            1.500000       1732.000000                   5.200000   \n",
       "75%            2.300000       2000.000000                  14.700000   \n",
       "max            7.400000       2000.000000                  27.200000   \n",
       "\n",
       "       Solar Radiation (MJ/m2)  Rainfall(mm)  Snowfall (cm)  \n",
       "count              5760.000000   5760.000000    5760.000000  \n",
       "mean                  0.572325      0.135122       0.046302  \n",
       "std                   0.869943      1.075320       0.323728  \n",
       "min                   0.000000      0.000000       0.000000  \n",
       "25%                   0.000000      0.000000       0.000000  \n",
       "50%                   0.010000      0.000000       0.000000  \n",
       "75%                   0.940000      0.000000       0.000000  \n",
       "max                   3.520000     35.000000       5.100000  "
      ]
     },
     "execution_count": 5,
     "metadata": {},
     "output_type": "execute_result"
    }
   ],
   "source": [
    "train_df.describe()"
   ]
  },
  {
   "cell_type": "code",
   "execution_count": 6,
   "id": "98e321c5",
   "metadata": {
    "execution": {
     "iopub.execute_input": "2021-08-30T15:56:26.079045Z",
     "iopub.status.busy": "2021-08-30T15:56:26.078119Z",
     "iopub.status.idle": "2021-08-30T15:56:26.080451Z",
     "shell.execute_reply": "2021-08-30T15:56:26.081038Z",
     "shell.execute_reply.started": "2021-08-30T15:55:30.744956Z"
    },
    "papermill": {
     "duration": 0.052119,
     "end_time": "2021-08-30T15:56:26.081196",
     "exception": false,
     "start_time": "2021-08-30T15:56:26.029077",
     "status": "completed"
    },
    "tags": []
   },
   "outputs": [],
   "source": [
    "def Add_Fog(train_df):\n",
    "    train_df.loc[(train_df[\"Temperature\"] -  train_df[\"Dew point temperature\"]) < 2, 'Fog'] = 1 \n",
    "    train_df.loc[(train_df[\"Temperature\"] -  train_df[\"Dew point temperature\"]) >= 2, 'Fog'] = 0 \n",
    "    \n"
   ]
  },
  {
   "cell_type": "code",
   "execution_count": 7,
   "id": "5f4913b7",
   "metadata": {
    "execution": {
     "iopub.execute_input": "2021-08-30T15:56:26.172184Z",
     "iopub.status.busy": "2021-08-30T15:56:26.171235Z",
     "iopub.status.idle": "2021-08-30T15:56:26.497205Z",
     "shell.execute_reply": "2021-08-30T15:56:26.497713Z",
     "shell.execute_reply.started": "2021-08-30T15:55:30.753495Z"
    },
    "papermill": {
     "duration": 0.372992,
     "end_time": "2021-08-30T15:56:26.497885",
     "exception": false,
     "start_time": "2021-08-30T15:56:26.124893",
     "status": "completed"
    },
    "tags": []
   },
   "outputs": [
    {
     "data": {
      "text/html": [
       "<div>\n",
       "<style scoped>\n",
       "    .dataframe tbody tr th:only-of-type {\n",
       "        vertical-align: middle;\n",
       "    }\n",
       "\n",
       "    .dataframe tbody tr th {\n",
       "        vertical-align: top;\n",
       "    }\n",
       "\n",
       "    .dataframe thead th {\n",
       "        text-align: right;\n",
       "    }\n",
       "</style>\n",
       "<table border=\"1\" class=\"dataframe\">\n",
       "  <thead>\n",
       "    <tr style=\"text-align: right;\">\n",
       "      <th></th>\n",
       "      <th>ID</th>\n",
       "      <th>Date</th>\n",
       "      <th>y</th>\n",
       "      <th>Hour</th>\n",
       "      <th>Temperature(�C)</th>\n",
       "      <th>Humidity(%)</th>\n",
       "      <th>Wind speed (m/s)</th>\n",
       "      <th>Visibility (10m)</th>\n",
       "      <th>Dew point temperature(�C)</th>\n",
       "      <th>Solar Radiation (MJ/m2)</th>\n",
       "      <th>Rainfall(mm)</th>\n",
       "      <th>Snowfall (cm)</th>\n",
       "      <th>Seasons</th>\n",
       "      <th>Holiday</th>\n",
       "      <th>Functioning Day</th>\n",
       "      <th>year</th>\n",
       "      <th>month</th>\n",
       "      <th>dayofweek</th>\n",
       "      <th>weekofyear</th>\n",
       "      <th>dayofyear</th>\n",
       "    </tr>\n",
       "  </thead>\n",
       "  <tbody>\n",
       "    <tr>\n",
       "      <th>5460</th>\n",
       "      <td>5460</td>\n",
       "      <td>2018-11-08</td>\n",
       "      <td>17</td>\n",
       "      <td>12</td>\n",
       "      <td>11.4</td>\n",
       "      <td>95</td>\n",
       "      <td>2.5</td>\n",
       "      <td>792</td>\n",
       "      <td>10.6</td>\n",
       "      <td>0.44</td>\n",
       "      <td>5.5</td>\n",
       "      <td>0.0</td>\n",
       "      <td>Autumn</td>\n",
       "      <td>No Holiday</td>\n",
       "      <td>Yes</td>\n",
       "      <td>2018</td>\n",
       "      <td>11</td>\n",
       "      <td>3</td>\n",
       "      <td>45</td>\n",
       "      <td>312</td>\n",
       "    </tr>\n",
       "    <tr>\n",
       "      <th>5461</th>\n",
       "      <td>5461</td>\n",
       "      <td>2018-11-08</td>\n",
       "      <td>18</td>\n",
       "      <td>13</td>\n",
       "      <td>11.5</td>\n",
       "      <td>95</td>\n",
       "      <td>2.1</td>\n",
       "      <td>457</td>\n",
       "      <td>10.7</td>\n",
       "      <td>0.32</td>\n",
       "      <td>0.0</td>\n",
       "      <td>0.0</td>\n",
       "      <td>Autumn</td>\n",
       "      <td>No Holiday</td>\n",
       "      <td>Yes</td>\n",
       "      <td>2018</td>\n",
       "      <td>11</td>\n",
       "      <td>3</td>\n",
       "      <td>45</td>\n",
       "      <td>312</td>\n",
       "    </tr>\n",
       "    <tr>\n",
       "      <th>5462</th>\n",
       "      <td>5462</td>\n",
       "      <td>2018-11-08</td>\n",
       "      <td>46</td>\n",
       "      <td>14</td>\n",
       "      <td>11.3</td>\n",
       "      <td>96</td>\n",
       "      <td>2.7</td>\n",
       "      <td>302</td>\n",
       "      <td>10.6</td>\n",
       "      <td>0.11</td>\n",
       "      <td>0.0</td>\n",
       "      <td>0.0</td>\n",
       "      <td>Autumn</td>\n",
       "      <td>No Holiday</td>\n",
       "      <td>Yes</td>\n",
       "      <td>2018</td>\n",
       "      <td>11</td>\n",
       "      <td>3</td>\n",
       "      <td>45</td>\n",
       "      <td>312</td>\n",
       "    </tr>\n",
       "    <tr>\n",
       "      <th>5463</th>\n",
       "      <td>5463</td>\n",
       "      <td>2018-11-08</td>\n",
       "      <td>56</td>\n",
       "      <td>15</td>\n",
       "      <td>11.4</td>\n",
       "      <td>96</td>\n",
       "      <td>2.0</td>\n",
       "      <td>910</td>\n",
       "      <td>10.7</td>\n",
       "      <td>0.07</td>\n",
       "      <td>9.5</td>\n",
       "      <td>0.0</td>\n",
       "      <td>Autumn</td>\n",
       "      <td>No Holiday</td>\n",
       "      <td>Yes</td>\n",
       "      <td>2018</td>\n",
       "      <td>11</td>\n",
       "      <td>3</td>\n",
       "      <td>45</td>\n",
       "      <td>312</td>\n",
       "    </tr>\n",
       "    <tr>\n",
       "      <th>5464</th>\n",
       "      <td>5464</td>\n",
       "      <td>2018-11-08</td>\n",
       "      <td>14</td>\n",
       "      <td>16</td>\n",
       "      <td>11.7</td>\n",
       "      <td>96</td>\n",
       "      <td>1.4</td>\n",
       "      <td>587</td>\n",
       "      <td>11.0</td>\n",
       "      <td>0.02</td>\n",
       "      <td>0.0</td>\n",
       "      <td>0.0</td>\n",
       "      <td>Autumn</td>\n",
       "      <td>No Holiday</td>\n",
       "      <td>Yes</td>\n",
       "      <td>2018</td>\n",
       "      <td>11</td>\n",
       "      <td>3</td>\n",
       "      <td>45</td>\n",
       "      <td>312</td>\n",
       "    </tr>\n",
       "    <tr>\n",
       "      <th>...</th>\n",
       "      <td>...</td>\n",
       "      <td>...</td>\n",
       "      <td>...</td>\n",
       "      <td>...</td>\n",
       "      <td>...</td>\n",
       "      <td>...</td>\n",
       "      <td>...</td>\n",
       "      <td>...</td>\n",
       "      <td>...</td>\n",
       "      <td>...</td>\n",
       "      <td>...</td>\n",
       "      <td>...</td>\n",
       "      <td>...</td>\n",
       "      <td>...</td>\n",
       "      <td>...</td>\n",
       "      <td>...</td>\n",
       "      <td>...</td>\n",
       "      <td>...</td>\n",
       "      <td>...</td>\n",
       "      <td>...</td>\n",
       "    </tr>\n",
       "    <tr>\n",
       "      <th>5755</th>\n",
       "      <td>5755</td>\n",
       "      <td>2018-11-20</td>\n",
       "      <td>1317</td>\n",
       "      <td>19</td>\n",
       "      <td>8.7</td>\n",
       "      <td>34</td>\n",
       "      <td>2.2</td>\n",
       "      <td>1857</td>\n",
       "      <td>-6.3</td>\n",
       "      <td>0.00</td>\n",
       "      <td>0.0</td>\n",
       "      <td>0.0</td>\n",
       "      <td>Autumn</td>\n",
       "      <td>No Holiday</td>\n",
       "      <td>Yes</td>\n",
       "      <td>2018</td>\n",
       "      <td>11</td>\n",
       "      <td>1</td>\n",
       "      <td>47</td>\n",
       "      <td>324</td>\n",
       "    </tr>\n",
       "    <tr>\n",
       "      <th>5756</th>\n",
       "      <td>5756</td>\n",
       "      <td>2018-11-20</td>\n",
       "      <td>1078</td>\n",
       "      <td>20</td>\n",
       "      <td>8.5</td>\n",
       "      <td>32</td>\n",
       "      <td>2.6</td>\n",
       "      <td>1789</td>\n",
       "      <td>-7.2</td>\n",
       "      <td>0.00</td>\n",
       "      <td>0.0</td>\n",
       "      <td>0.0</td>\n",
       "      <td>Autumn</td>\n",
       "      <td>No Holiday</td>\n",
       "      <td>Yes</td>\n",
       "      <td>2018</td>\n",
       "      <td>11</td>\n",
       "      <td>1</td>\n",
       "      <td>47</td>\n",
       "      <td>324</td>\n",
       "    </tr>\n",
       "    <tr>\n",
       "      <th>5757</th>\n",
       "      <td>5757</td>\n",
       "      <td>2018-11-20</td>\n",
       "      <td>1020</td>\n",
       "      <td>21</td>\n",
       "      <td>8.8</td>\n",
       "      <td>37</td>\n",
       "      <td>3.8</td>\n",
       "      <td>1750</td>\n",
       "      <td>-5.1</td>\n",
       "      <td>0.00</td>\n",
       "      <td>0.0</td>\n",
       "      <td>0.0</td>\n",
       "      <td>Autumn</td>\n",
       "      <td>No Holiday</td>\n",
       "      <td>Yes</td>\n",
       "      <td>2018</td>\n",
       "      <td>11</td>\n",
       "      <td>1</td>\n",
       "      <td>47</td>\n",
       "      <td>324</td>\n",
       "    </tr>\n",
       "    <tr>\n",
       "      <th>5758</th>\n",
       "      <td>5758</td>\n",
       "      <td>2018-11-20</td>\n",
       "      <td>922</td>\n",
       "      <td>22</td>\n",
       "      <td>8.9</td>\n",
       "      <td>40</td>\n",
       "      <td>3.4</td>\n",
       "      <td>1810</td>\n",
       "      <td>-3.9</td>\n",
       "      <td>0.00</td>\n",
       "      <td>0.0</td>\n",
       "      <td>0.0</td>\n",
       "      <td>Autumn</td>\n",
       "      <td>No Holiday</td>\n",
       "      <td>Yes</td>\n",
       "      <td>2018</td>\n",
       "      <td>11</td>\n",
       "      <td>1</td>\n",
       "      <td>47</td>\n",
       "      <td>324</td>\n",
       "    </tr>\n",
       "    <tr>\n",
       "      <th>5759</th>\n",
       "      <td>5759</td>\n",
       "      <td>2018-11-20</td>\n",
       "      <td>378</td>\n",
       "      <td>23</td>\n",
       "      <td>9.3</td>\n",
       "      <td>43</td>\n",
       "      <td>3.5</td>\n",
       "      <td>1807</td>\n",
       "      <td>-2.6</td>\n",
       "      <td>0.00</td>\n",
       "      <td>0.0</td>\n",
       "      <td>0.0</td>\n",
       "      <td>Autumn</td>\n",
       "      <td>No Holiday</td>\n",
       "      <td>Yes</td>\n",
       "      <td>2018</td>\n",
       "      <td>11</td>\n",
       "      <td>1</td>\n",
       "      <td>47</td>\n",
       "      <td>324</td>\n",
       "    </tr>\n",
       "  </tbody>\n",
       "</table>\n",
       "<p>300 rows × 20 columns</p>\n",
       "</div>"
      ],
      "text/plain": [
       "        ID       Date     y  Hour  Temperature(�C)  Humidity(%)  \\\n",
       "5460  5460 2018-11-08    17    12             11.4           95   \n",
       "5461  5461 2018-11-08    18    13             11.5           95   \n",
       "5462  5462 2018-11-08    46    14             11.3           96   \n",
       "5463  5463 2018-11-08    56    15             11.4           96   \n",
       "5464  5464 2018-11-08    14    16             11.7           96   \n",
       "...    ...        ...   ...   ...              ...          ...   \n",
       "5755  5755 2018-11-20  1317    19              8.7           34   \n",
       "5756  5756 2018-11-20  1078    20              8.5           32   \n",
       "5757  5757 2018-11-20  1020    21              8.8           37   \n",
       "5758  5758 2018-11-20   922    22              8.9           40   \n",
       "5759  5759 2018-11-20   378    23              9.3           43   \n",
       "\n",
       "      Wind speed (m/s)  Visibility (10m)  Dew point temperature(�C)  \\\n",
       "5460               2.5               792                       10.6   \n",
       "5461               2.1               457                       10.7   \n",
       "5462               2.7               302                       10.6   \n",
       "5463               2.0               910                       10.7   \n",
       "5464               1.4               587                       11.0   \n",
       "...                ...               ...                        ...   \n",
       "5755               2.2              1857                       -6.3   \n",
       "5756               2.6              1789                       -7.2   \n",
       "5757               3.8              1750                       -5.1   \n",
       "5758               3.4              1810                       -3.9   \n",
       "5759               3.5              1807                       -2.6   \n",
       "\n",
       "      Solar Radiation (MJ/m2)  Rainfall(mm)  Snowfall (cm) Seasons  \\\n",
       "5460                     0.44           5.5            0.0  Autumn   \n",
       "5461                     0.32           0.0            0.0  Autumn   \n",
       "5462                     0.11           0.0            0.0  Autumn   \n",
       "5463                     0.07           9.5            0.0  Autumn   \n",
       "5464                     0.02           0.0            0.0  Autumn   \n",
       "...                       ...           ...            ...     ...   \n",
       "5755                     0.00           0.0            0.0  Autumn   \n",
       "5756                     0.00           0.0            0.0  Autumn   \n",
       "5757                     0.00           0.0            0.0  Autumn   \n",
       "5758                     0.00           0.0            0.0  Autumn   \n",
       "5759                     0.00           0.0            0.0  Autumn   \n",
       "\n",
       "         Holiday Functioning Day  year  month  dayofweek  weekofyear  \\\n",
       "5460  No Holiday             Yes  2018     11          3          45   \n",
       "5461  No Holiday             Yes  2018     11          3          45   \n",
       "5462  No Holiday             Yes  2018     11          3          45   \n",
       "5463  No Holiday             Yes  2018     11          3          45   \n",
       "5464  No Holiday             Yes  2018     11          3          45   \n",
       "...          ...             ...   ...    ...        ...         ...   \n",
       "5755  No Holiday             Yes  2018     11          1          47   \n",
       "5756  No Holiday             Yes  2018     11          1          47   \n",
       "5757  No Holiday             Yes  2018     11          1          47   \n",
       "5758  No Holiday             Yes  2018     11          1          47   \n",
       "5759  No Holiday             Yes  2018     11          1          47   \n",
       "\n",
       "      dayofyear  \n",
       "5460        312  \n",
       "5461        312  \n",
       "5462        312  \n",
       "5463        312  \n",
       "5464        312  \n",
       "...         ...  \n",
       "5755        324  \n",
       "5756        324  \n",
       "5757        324  \n",
       "5758        324  \n",
       "5759        324  \n",
       "\n",
       "[300 rows x 20 columns]"
      ]
     },
     "execution_count": 7,
     "metadata": {},
     "output_type": "execute_result"
    }
   ],
   "source": [
    "# Change Date column to datetime type\n",
    "def date_parse(df):\n",
    "    df['Date'] = pd.to_datetime(df['Date'], format='%d/%m/%Y')\n",
    "\n",
    "    # Now let's extract all the values stored in the date variable \n",
    "    df['year']       = df['Date'].apply(lambda x:x.year)\n",
    "    df['month']      = df['Date'].apply(lambda x:x.month)\n",
    "    df['dayofweek']  = df['Date'].apply(lambda x:x.dayofweek) #The day of the week with Monday=0, Sunday=6.\n",
    "    df['weekofyear'] = df['Date'].apply(lambda x:x.weekofyear)\n",
    "    df['dayofyear'] = df['Date'].apply(lambda x:x.dayofyear)\n",
    "\n",
    "    \n",
    "date_parse(train_df)\n",
    "train_df.tail(300)"
   ]
  },
  {
   "cell_type": "code",
   "execution_count": 8,
   "id": "e055d841",
   "metadata": {
    "execution": {
     "iopub.execute_input": "2021-08-30T15:56:26.590536Z",
     "iopub.status.busy": "2021-08-30T15:56:26.589584Z",
     "iopub.status.idle": "2021-08-30T15:56:26.594913Z",
     "shell.execute_reply": "2021-08-30T15:56:26.595406Z",
     "shell.execute_reply.started": "2021-08-30T15:55:30.978991Z"
    },
    "papermill": {
     "duration": 0.053101,
     "end_time": "2021-08-30T15:56:26.595569",
     "exception": false,
     "start_time": "2021-08-30T15:56:26.542468",
     "status": "completed"
    },
    "tags": []
   },
   "outputs": [
    {
     "data": {
      "text/plain": [
       "(5760, 20)"
      ]
     },
     "execution_count": 8,
     "metadata": {},
     "output_type": "execute_result"
    }
   ],
   "source": [
    "train_df.shape"
   ]
  },
  {
   "cell_type": "code",
   "execution_count": 9,
   "id": "099dbf7f",
   "metadata": {
    "execution": {
     "iopub.execute_input": "2021-08-30T15:56:26.688552Z",
     "iopub.status.busy": "2021-08-30T15:56:26.687615Z",
     "iopub.status.idle": "2021-08-30T15:56:26.690828Z",
     "shell.execute_reply": "2021-08-30T15:56:26.691353Z",
     "shell.execute_reply.started": "2021-08-30T15:55:30.987927Z"
    },
    "papermill": {
     "duration": 0.051182,
     "end_time": "2021-08-30T15:56:26.691521",
     "exception": false,
     "start_time": "2021-08-30T15:56:26.640339",
     "status": "completed"
    },
    "tags": []
   },
   "outputs": [],
   "source": [
    "# train_df['year'].value_counts()"
   ]
  },
  {
   "cell_type": "code",
   "execution_count": 10,
   "id": "94a64e05",
   "metadata": {
    "execution": {
     "iopub.execute_input": "2021-08-30T15:56:26.785112Z",
     "iopub.status.busy": "2021-08-30T15:56:26.784481Z",
     "iopub.status.idle": "2021-08-30T15:56:26.802238Z",
     "shell.execute_reply": "2021-08-30T15:56:26.801659Z",
     "shell.execute_reply.started": "2021-08-30T15:55:31.003087Z"
    },
    "papermill": {
     "duration": 0.065747,
     "end_time": "2021-08-30T15:56:26.802504",
     "exception": false,
     "start_time": "2021-08-30T15:56:26.736757",
     "status": "completed"
    },
    "tags": []
   },
   "outputs": [
    {
     "data": {
      "text/plain": [
       "ID                           5760\n",
       "Date                          240\n",
       "y                            1890\n",
       "Hour                           24\n",
       "Temperature(�C)               515\n",
       "Humidity(%)                    86\n",
       "Wind speed (m/s)               63\n",
       "Visibility (10m)             1584\n",
       "Dew point temperature(�C)     516\n",
       "Solar Radiation (MJ/m2)       340\n",
       "Rainfall(mm)                   45\n",
       "Snowfall (cm)                  36\n",
       "Seasons                         4\n",
       "Holiday                         2\n",
       "Functioning Day                 2\n",
       "year                            2\n",
       "month                          12\n",
       "dayofweek                       7\n",
       "weekofyear                     45\n",
       "dayofyear                     240\n",
       "dtype: int64"
      ]
     },
     "execution_count": 10,
     "metadata": {},
     "output_type": "execute_result"
    }
   ],
   "source": [
    "train_df.apply(lambda x: len(x.unique()))"
   ]
  },
  {
   "cell_type": "code",
   "execution_count": 11,
   "id": "a096f7c3",
   "metadata": {
    "execution": {
     "iopub.execute_input": "2021-08-30T15:56:26.899738Z",
     "iopub.status.busy": "2021-08-30T15:56:26.899118Z",
     "iopub.status.idle": "2021-08-30T15:56:26.901856Z",
     "shell.execute_reply": "2021-08-30T15:56:26.902339Z",
     "shell.execute_reply.started": "2021-08-30T15:55:31.028931Z"
    },
    "papermill": {
     "duration": 0.053562,
     "end_time": "2021-08-30T15:56:26.902510",
     "exception": false,
     "start_time": "2021-08-30T15:56:26.848948",
     "status": "completed"
    },
    "tags": []
   },
   "outputs": [],
   "source": [
    "# Generate dummies for Seasons\n",
    "def encode_seasons(df):\n",
    "    return pd.concat([df,pd.get_dummies(df['Seasons'],prefix=\"Seasons\")],axis=1)"
   ]
  },
  {
   "cell_type": "code",
   "execution_count": 12,
   "id": "f1c7d49a",
   "metadata": {
    "execution": {
     "iopub.execute_input": "2021-08-30T15:56:27.019753Z",
     "iopub.status.busy": "2021-08-30T15:56:27.019009Z",
     "iopub.status.idle": "2021-08-30T15:56:27.023745Z",
     "shell.execute_reply": "2021-08-30T15:56:27.023280Z",
     "shell.execute_reply.started": "2021-08-30T15:55:31.037141Z"
    },
    "papermill": {
     "duration": 0.075407,
     "end_time": "2021-08-30T15:56:27.023908",
     "exception": false,
     "start_time": "2021-08-30T15:56:26.948501",
     "status": "completed"
    },
    "tags": []
   },
   "outputs": [
    {
     "data": {
      "text/html": [
       "<div>\n",
       "<style scoped>\n",
       "    .dataframe tbody tr th:only-of-type {\n",
       "        vertical-align: middle;\n",
       "    }\n",
       "\n",
       "    .dataframe tbody tr th {\n",
       "        vertical-align: top;\n",
       "    }\n",
       "\n",
       "    .dataframe thead th {\n",
       "        text-align: right;\n",
       "    }\n",
       "</style>\n",
       "<table border=\"1\" class=\"dataframe\">\n",
       "  <thead>\n",
       "    <tr style=\"text-align: right;\">\n",
       "      <th></th>\n",
       "      <th>ID</th>\n",
       "      <th>Date</th>\n",
       "      <th>y</th>\n",
       "      <th>Hour</th>\n",
       "      <th>Temperature(�C)</th>\n",
       "      <th>Humidity(%)</th>\n",
       "      <th>Wind speed (m/s)</th>\n",
       "      <th>Visibility (10m)</th>\n",
       "      <th>Dew point temperature(�C)</th>\n",
       "      <th>Solar Radiation (MJ/m2)</th>\n",
       "      <th>Rainfall(mm)</th>\n",
       "      <th>Snowfall (cm)</th>\n",
       "      <th>Seasons</th>\n",
       "      <th>Holiday</th>\n",
       "      <th>Functioning Day</th>\n",
       "      <th>year</th>\n",
       "      <th>month</th>\n",
       "      <th>dayofweek</th>\n",
       "      <th>weekofyear</th>\n",
       "      <th>dayofyear</th>\n",
       "    </tr>\n",
       "  </thead>\n",
       "  <tbody>\n",
       "    <tr>\n",
       "      <th>0</th>\n",
       "      <td>0</td>\n",
       "      <td>2017-12-01</td>\n",
       "      <td>254</td>\n",
       "      <td>0</td>\n",
       "      <td>-5.2</td>\n",
       "      <td>37</td>\n",
       "      <td>2.2</td>\n",
       "      <td>2000</td>\n",
       "      <td>-17.6</td>\n",
       "      <td>0.0</td>\n",
       "      <td>0.0</td>\n",
       "      <td>0.0</td>\n",
       "      <td>Winter</td>\n",
       "      <td>No Holiday</td>\n",
       "      <td>Yes</td>\n",
       "      <td>2017</td>\n",
       "      <td>12</td>\n",
       "      <td>4</td>\n",
       "      <td>48</td>\n",
       "      <td>335</td>\n",
       "    </tr>\n",
       "    <tr>\n",
       "      <th>1</th>\n",
       "      <td>1</td>\n",
       "      <td>2017-12-01</td>\n",
       "      <td>204</td>\n",
       "      <td>1</td>\n",
       "      <td>-5.5</td>\n",
       "      <td>38</td>\n",
       "      <td>0.8</td>\n",
       "      <td>2000</td>\n",
       "      <td>-17.6</td>\n",
       "      <td>0.0</td>\n",
       "      <td>0.0</td>\n",
       "      <td>0.0</td>\n",
       "      <td>Winter</td>\n",
       "      <td>No Holiday</td>\n",
       "      <td>Yes</td>\n",
       "      <td>2017</td>\n",
       "      <td>12</td>\n",
       "      <td>4</td>\n",
       "      <td>48</td>\n",
       "      <td>335</td>\n",
       "    </tr>\n",
       "    <tr>\n",
       "      <th>2</th>\n",
       "      <td>2</td>\n",
       "      <td>2017-12-01</td>\n",
       "      <td>173</td>\n",
       "      <td>2</td>\n",
       "      <td>-6.0</td>\n",
       "      <td>39</td>\n",
       "      <td>1.0</td>\n",
       "      <td>2000</td>\n",
       "      <td>-17.7</td>\n",
       "      <td>0.0</td>\n",
       "      <td>0.0</td>\n",
       "      <td>0.0</td>\n",
       "      <td>Winter</td>\n",
       "      <td>No Holiday</td>\n",
       "      <td>Yes</td>\n",
       "      <td>2017</td>\n",
       "      <td>12</td>\n",
       "      <td>4</td>\n",
       "      <td>48</td>\n",
       "      <td>335</td>\n",
       "    </tr>\n",
       "    <tr>\n",
       "      <th>3</th>\n",
       "      <td>3</td>\n",
       "      <td>2017-12-01</td>\n",
       "      <td>107</td>\n",
       "      <td>3</td>\n",
       "      <td>-6.2</td>\n",
       "      <td>40</td>\n",
       "      <td>0.9</td>\n",
       "      <td>2000</td>\n",
       "      <td>-17.6</td>\n",
       "      <td>0.0</td>\n",
       "      <td>0.0</td>\n",
       "      <td>0.0</td>\n",
       "      <td>Winter</td>\n",
       "      <td>No Holiday</td>\n",
       "      <td>Yes</td>\n",
       "      <td>2017</td>\n",
       "      <td>12</td>\n",
       "      <td>4</td>\n",
       "      <td>48</td>\n",
       "      <td>335</td>\n",
       "    </tr>\n",
       "    <tr>\n",
       "      <th>4</th>\n",
       "      <td>4</td>\n",
       "      <td>2017-12-01</td>\n",
       "      <td>78</td>\n",
       "      <td>4</td>\n",
       "      <td>-6.0</td>\n",
       "      <td>36</td>\n",
       "      <td>2.3</td>\n",
       "      <td>2000</td>\n",
       "      <td>-18.6</td>\n",
       "      <td>0.0</td>\n",
       "      <td>0.0</td>\n",
       "      <td>0.0</td>\n",
       "      <td>Winter</td>\n",
       "      <td>No Holiday</td>\n",
       "      <td>Yes</td>\n",
       "      <td>2017</td>\n",
       "      <td>12</td>\n",
       "      <td>4</td>\n",
       "      <td>48</td>\n",
       "      <td>335</td>\n",
       "    </tr>\n",
       "  </tbody>\n",
       "</table>\n",
       "</div>"
      ],
      "text/plain": [
       "   ID       Date    y  Hour  Temperature(�C)  Humidity(%)  Wind speed (m/s)  \\\n",
       "0   0 2017-12-01  254     0             -5.2           37               2.2   \n",
       "1   1 2017-12-01  204     1             -5.5           38               0.8   \n",
       "2   2 2017-12-01  173     2             -6.0           39               1.0   \n",
       "3   3 2017-12-01  107     3             -6.2           40               0.9   \n",
       "4   4 2017-12-01   78     4             -6.0           36               2.3   \n",
       "\n",
       "   Visibility (10m)  Dew point temperature(�C)  Solar Radiation (MJ/m2)  \\\n",
       "0              2000                      -17.6                      0.0   \n",
       "1              2000                      -17.6                      0.0   \n",
       "2              2000                      -17.7                      0.0   \n",
       "3              2000                      -17.6                      0.0   \n",
       "4              2000                      -18.6                      0.0   \n",
       "\n",
       "   Rainfall(mm)  Snowfall (cm) Seasons     Holiday Functioning Day  year  \\\n",
       "0           0.0            0.0  Winter  No Holiday             Yes  2017   \n",
       "1           0.0            0.0  Winter  No Holiday             Yes  2017   \n",
       "2           0.0            0.0  Winter  No Holiday             Yes  2017   \n",
       "3           0.0            0.0  Winter  No Holiday             Yes  2017   \n",
       "4           0.0            0.0  Winter  No Holiday             Yes  2017   \n",
       "\n",
       "   month  dayofweek  weekofyear  dayofyear  \n",
       "0     12          4          48        335  \n",
       "1     12          4          48        335  \n",
       "2     12          4          48        335  \n",
       "3     12          4          48        335  \n",
       "4     12          4          48        335  "
      ]
     },
     "execution_count": 12,
     "metadata": {},
     "output_type": "execute_result"
    }
   ],
   "source": [
    "train_df.head()"
   ]
  },
  {
   "cell_type": "code",
   "execution_count": 13,
   "id": "32fb2764",
   "metadata": {
    "execution": {
     "iopub.execute_input": "2021-08-30T15:56:27.119354Z",
     "iopub.status.busy": "2021-08-30T15:56:27.118735Z",
     "iopub.status.idle": "2021-08-30T15:56:27.124006Z",
     "shell.execute_reply": "2021-08-30T15:56:27.123461Z",
     "shell.execute_reply.started": "2021-08-30T15:55:31.315371Z"
    },
    "papermill": {
     "duration": 0.054185,
     "end_time": "2021-08-30T15:56:27.124144",
     "exception": false,
     "start_time": "2021-08-30T15:56:27.069959",
     "status": "completed"
    },
    "tags": []
   },
   "outputs": [],
   "source": [
    "#Create Working_day \n",
    "def create_working_day(train_df): \n",
    "    train_df['Working_day'] = 1\n",
    "    train_df.loc[(train_df['Holiday']=='Holiday') | (train_df['dayofweek'] == 5) | (train_df['dayofweek'] == 6) ,'Working_day'] = 0\n"
   ]
  },
  {
   "cell_type": "code",
   "execution_count": 14,
   "id": "82cdd1c6",
   "metadata": {
    "execution": {
     "iopub.execute_input": "2021-08-30T15:56:27.219530Z",
     "iopub.status.busy": "2021-08-30T15:56:27.218799Z",
     "iopub.status.idle": "2021-08-30T15:56:27.224416Z",
     "shell.execute_reply": "2021-08-30T15:56:27.224953Z",
     "shell.execute_reply.started": "2021-08-30T15:55:31.324099Z"
    },
    "papermill": {
     "duration": 0.054951,
     "end_time": "2021-08-30T15:56:27.225152",
     "exception": false,
     "start_time": "2021-08-30T15:56:27.170201",
     "status": "completed"
    },
    "tags": []
   },
   "outputs": [],
   "source": [
    "def cat_rainfall(train_df):\n",
    "    train_df.loc[(train_df['Rainfall'] > 4),'Rainfall_cat'] = '0'\n",
    "    train_df.loc[(train_df['Rainfall'] >1) & (train_df['Rainfall'] <= 4),'Rainfall_cat'] = '1'\n",
    "    train_df.loc[(train_df['Rainfall'] != 0) & (train_df['Rainfall'] <= 1),'Rainfall_cat'] = '2'\n",
    "    train_df.loc[train_df['Rainfall'] == 0,'Rainfall_cat'] = '3'\n",
    "    train_df['Rainfall_cat'].value_counts()"
   ]
  },
  {
   "cell_type": "code",
   "execution_count": 15,
   "id": "b4cef9f6",
   "metadata": {
    "execution": {
     "iopub.execute_input": "2021-08-30T15:56:27.323121Z",
     "iopub.status.busy": "2021-08-30T15:56:27.322467Z",
     "iopub.status.idle": "2021-08-30T15:56:27.327997Z",
     "shell.execute_reply": "2021-08-30T15:56:27.328475Z",
     "shell.execute_reply.started": "2021-08-30T15:55:31.341574Z"
    },
    "papermill": {
     "duration": 0.056152,
     "end_time": "2021-08-30T15:56:27.328634",
     "exception": false,
     "start_time": "2021-08-30T15:56:27.272482",
     "status": "completed"
    },
    "tags": []
   },
   "outputs": [],
   "source": [
    "def cat_snowfall(train_df):\n",
    "    train_df.loc[(train_df['Snowfall'] > 3.5),'Snowfall_cat'] = '0'\n",
    "    train_df.loc[(train_df['Snowfall'] >1) & (train_df['Snowfall'] <= 3.5),'Snowfall_cat'] = '1'\n",
    "    train_df.loc[(train_df['Snowfall'] != 0) & (train_df['Snowfall'] <= 1),'Snowfall_cat'] = '2'\n",
    "    train_df.loc[train_df['Snowfall'] == 0,'Snowfall_cat'] = '3'\n",
    "    train_df['Snowfall_cat'].value_counts()"
   ]
  },
  {
   "cell_type": "code",
   "execution_count": 16,
   "id": "e09462a8",
   "metadata": {
    "execution": {
     "iopub.execute_input": "2021-08-30T15:56:27.424598Z",
     "iopub.status.busy": "2021-08-30T15:56:27.423962Z",
     "iopub.status.idle": "2021-08-30T15:56:27.429599Z",
     "shell.execute_reply": "2021-08-30T15:56:27.430055Z",
     "shell.execute_reply.started": "2021-08-30T15:55:31.438631Z"
    },
    "papermill": {
     "duration": 0.055484,
     "end_time": "2021-08-30T15:56:27.430224",
     "exception": false,
     "start_time": "2021-08-30T15:56:27.374740",
     "status": "completed"
    },
    "tags": []
   },
   "outputs": [],
   "source": [
    "def cat_temperature(train_df):\n",
    "    train_df.loc[(train_df['Temperature'] <5),'Temperature_cat'] = '0'\n",
    "    train_df.loc[(train_df['Temperature'] >=5) & (train_df['Temperature'] < 15),'Temperature_cat'] = '1'\n",
    "    train_df.loc[(train_df['Temperature'] >= 15) & (train_df['Temperature'] < 30),'Temperature_cat'] = '2'\n",
    "    train_df.loc[train_df['Temperature'] >=30 ,'Temperature_cat'] = '3'\n",
    "#     train_df['Temperature_cat'].value_counts()"
   ]
  },
  {
   "cell_type": "code",
   "execution_count": 17,
   "id": "75dcb32a",
   "metadata": {
    "execution": {
     "iopub.execute_input": "2021-08-30T15:56:27.527559Z",
     "iopub.status.busy": "2021-08-30T15:56:27.526986Z",
     "iopub.status.idle": "2021-08-30T15:56:27.529917Z",
     "shell.execute_reply": "2021-08-30T15:56:27.529355Z",
     "shell.execute_reply.started": "2021-08-30T15:55:31.876509Z"
    },
    "papermill": {
     "duration": 0.054021,
     "end_time": "2021-08-30T15:56:27.530062",
     "exception": false,
     "start_time": "2021-08-30T15:56:27.476041",
     "status": "completed"
    },
    "tags": []
   },
   "outputs": [],
   "source": [
    "def cat_humidity(train_df):\n",
    "\n",
    "    train_df.loc[(train_df['Humidity'] >= 90),'Humidity_cat'] = '1'\n",
    "    train_df.loc[train_df['Humidity'] <90 ,'Humidity_cat'] = '0'\n",
    "#     train_df['Humidity_cat'].value_counts()"
   ]
  },
  {
   "cell_type": "code",
   "execution_count": 18,
   "id": "7a83541f",
   "metadata": {
    "execution": {
     "iopub.execute_input": "2021-08-30T15:56:27.626552Z",
     "iopub.status.busy": "2021-08-30T15:56:27.625881Z",
     "iopub.status.idle": "2021-08-30T15:56:27.627642Z",
     "shell.execute_reply": "2021-08-30T15:56:27.628160Z",
     "shell.execute_reply.started": "2021-08-30T15:55:32.000967Z"
    },
    "papermill": {
     "duration": 0.052297,
     "end_time": "2021-08-30T15:56:27.628329",
     "exception": false,
     "start_time": "2021-08-30T15:56:27.576032",
     "status": "completed"
    },
    "tags": []
   },
   "outputs": [],
   "source": [
    "def cat_weather(train_df):\n",
    "\n",
    "    train_df['weather'] = train_df['Rainfall_cat']+train_df['Snowfall_cat']+train_df['Temperature_cat']+train_df['Humidity_cat']\n",
    "    "
   ]
  },
  {
   "cell_type": "code",
   "execution_count": 19,
   "id": "d54d2e2d",
   "metadata": {
    "execution": {
     "iopub.execute_input": "2021-08-30T15:56:27.722967Z",
     "iopub.status.busy": "2021-08-30T15:56:27.722352Z",
     "iopub.status.idle": "2021-08-30T15:56:27.727268Z",
     "shell.execute_reply": "2021-08-30T15:56:27.727756Z",
     "shell.execute_reply.started": "2021-08-30T15:55:32.008419Z"
    },
    "papermill": {
     "duration": 0.053732,
     "end_time": "2021-08-30T15:56:27.727912",
     "exception": false,
     "start_time": "2021-08-30T15:56:27.674180",
     "status": "completed"
    },
    "tags": []
   },
   "outputs": [],
   "source": [
    "def convert_dtype(df):\n",
    "    convert_dict = {'Rainfall_cat': int,\n",
    "                    'Snowfall_cat': int,\n",
    "                    'Temperature_cat': int,\n",
    "                    'Humidity_cat': int  \n",
    "               }\n",
    "  \n",
    "    df = df.astype(convert_dict)\n",
    "    return df"
   ]
  },
  {
   "cell_type": "code",
   "execution_count": 20,
   "id": "382136d7",
   "metadata": {
    "execution": {
     "iopub.execute_input": "2021-08-30T15:56:27.824865Z",
     "iopub.status.busy": "2021-08-30T15:56:27.824214Z",
     "iopub.status.idle": "2021-08-30T15:56:27.826677Z",
     "shell.execute_reply": "2021-08-30T15:56:27.826182Z",
     "shell.execute_reply.started": "2021-08-30T15:55:32.026347Z"
    },
    "papermill": {
     "duration": 0.052361,
     "end_time": "2021-08-30T15:56:27.826812",
     "exception": false,
     "start_time": "2021-08-30T15:56:27.774451",
     "status": "completed"
    },
    "tags": []
   },
   "outputs": [],
   "source": [
    "# def rolling_mean(train_df):\n",
    "#     cols = ['Temperature(�C)', 'Humidity(%)',\n",
    "#        'Wind speed (m/s)', 'Visibility (10m)', 'Dew point temperature(�C)',\n",
    "#        'Solar Radiation (MJ/m2)']\n",
    "#     for i in cols:\n",
    "#         train_df[i+'_rolling_mean'] = train_df[i].rolling(window=4).mean()"
   ]
  },
  {
   "cell_type": "code",
   "execution_count": 21,
   "id": "846f35e8",
   "metadata": {
    "execution": {
     "iopub.execute_input": "2021-08-30T15:56:27.925718Z",
     "iopub.status.busy": "2021-08-30T15:56:27.924936Z",
     "iopub.status.idle": "2021-08-30T15:56:27.927718Z",
     "shell.execute_reply": "2021-08-30T15:56:27.927158Z",
     "shell.execute_reply.started": "2021-08-30T15:55:32.111177Z"
    },
    "papermill": {
     "duration": 0.055644,
     "end_time": "2021-08-30T15:56:27.927865",
     "exception": false,
     "start_time": "2021-08-30T15:56:27.872221",
     "status": "completed"
    },
    "tags": []
   },
   "outputs": [],
   "source": [
    "def lag(train_df):\n",
    "    cols = ['Temperature(�C)', 'Humidity(%)',\n",
    "       'Wind speed (m/s)', 'Visibility (10m)', 'Dew point temperature(�C)',\n",
    "       'Solar Radiation (MJ/m2)']\n",
    "    for i in cols:\n",
    "        train_df[i + '_lag_1'] = train_df[i].shift(1)\n",
    "        train_df[i + '_lag_2'] = train_df[i].shift(2)\n",
    "        train_df[i + '_lag_3'] = train_df[i].shift(3)\n",
    "\n",
    "        train_df[i + '_lag_-1'] = train_df[i].shift(-1)\n",
    "        train_df[i + '_lag_-2'] = train_df[i].shift(-2)\n",
    "        train_df[i + '_lag_-3'] = train_df[i].shift(-3)\n",
    "\n",
    "\n",
    "\n",
    "        train_df.fillna(train_df[i])"
   ]
  },
  {
   "cell_type": "code",
   "execution_count": 22,
   "id": "74987dfa",
   "metadata": {
    "execution": {
     "iopub.execute_input": "2021-08-30T15:56:28.037340Z",
     "iopub.status.busy": "2021-08-30T15:56:28.036603Z",
     "iopub.status.idle": "2021-08-30T15:56:30.015158Z",
     "shell.execute_reply": "2021-08-30T15:56:30.014606Z",
     "shell.execute_reply.started": "2021-08-30T15:55:32.612498Z"
    },
    "papermill": {
     "duration": 2.041249,
     "end_time": "2021-08-30T15:56:30.015303",
     "exception": false,
     "start_time": "2021-08-30T15:56:27.974054",
     "status": "completed"
    },
    "tags": []
   },
   "outputs": [
    {
     "data": {
      "image/png": "[encoded data removed]",
      "text/plain": [
       "<Figure size 432x288 with 1 Axes>"
      ]
     },
     "metadata": {
      "needs_background": "light"
     },
     "output_type": "display_data"
    },
    {
     "data": {
      "image/png": "[encoded data removed]",
      "text/plain": [
       "<Figure size 432x288 with 1 Axes>"
      ]
     },
     "metadata": {
      "needs_background": "light"
     },
     "output_type": "display_data"
    },
    {
     "data": {
      "image/png": "[encoded data removed]",
      "text/plain": [
       "<Figure size 432x288 with 1 Axes>"
      ]
     },
     "metadata": {
      "needs_background": "light"
     },
     "output_type": "display_data"
    },
    {
     "data": {
      "image/png": "[encoded data removed]",
      "text/plain": [
       "<Figure size 432x288 with 1 Axes>"
      ]
     },
     "metadata": {
      "needs_background": "light"
     },
     "output_type": "display_data"
    },
    {
     "data": {
      "image/png": "[encoded data removed]",
      "text/plain": [
       "<Figure size 432x288 with 1 Axes>"
      ]
     },
     "metadata": {
      "needs_background": "light"
     },
     "output_type": "display_data"
    },
    {
     "data": {
      "image/png": "[encoded data removed]",
      "text/plain": [
       "<Figure size 432x288 with 1 Axes>"
      ]
     },
     "metadata": {
      "needs_background": "light"
     },
     "output_type": "display_data"
    },
    {
     "data": {
      "image/png": "[encoded data removed]",
      "text/plain": [
       "<Figure size 432x288 with 1 Axes>"
      ]
     },
     "metadata": {
      "needs_background": "light"
     },
     "output_type": "display_data"
    },
    {
     "data": {
      "image/png": "[encoded data removed]",
      "text/plain": [
       "<Figure size 432x288 with 1 Axes>"
      ]
     },
     "metadata": {
      "needs_background": "light"
     },
     "output_type": "display_data"
    },
    {
     "data": {
      "image/png": "[encoded data removed]",
      "text/plain": [
       "<Figure size 432x288 with 1 Axes>"
      ]
     },
     "metadata": {
      "needs_background": "light"
     },
     "output_type": "display_data"
    },
    {
     "data": {
      "image/png": "[encoded data removed]",
      "text/plain": [
       "<Figure size 432x288 with 1 Axes>"
      ]
     },
     "metadata": {
      "needs_background": "light"
     },
     "output_type": "display_data"
    },
    {
     "data": {
      "image/png": "[encoded data removed]",
      "text/plain": [
       "<Figure size 432x288 with 1 Axes>"
      ]
     },
     "metadata": {
      "needs_background": "light"
     },
     "output_type": "display_data"
    },
    {
     "data": {
      "image/png": "[encoded data removed]",
      "text/plain": [
       "<Figure size 432x288 with 1 Axes>"
      ]
     },
     "metadata": {
      "needs_background": "light"
     },
     "output_type": "display_data"
    }
   ],
   "source": [
    "from statsmodels.graphics.tsaplots import plot_acf, plot_pacf\n",
    "cols = ['Temperature(�C)', 'Humidity(%)',\n",
    "       'Wind speed (m/s)', 'Visibility (10m)', 'Dew point temperature(�C)',\n",
    "       'Solar Radiation (MJ/m2)']\n",
    "for i in cols:\n",
    "    plot_acf(train_df[i], lags=10)\n",
    "    plot_pacf(train_df[i], lags=10)"
   ]
  },
  {
   "cell_type": "code",
   "execution_count": 23,
   "id": "ef334f31",
   "metadata": {
    "execution": {
     "iopub.execute_input": "2021-08-30T15:56:30.130770Z",
     "iopub.status.busy": "2021-08-30T15:56:30.130089Z",
     "iopub.status.idle": "2021-08-30T15:56:30.132039Z",
     "shell.execute_reply": "2021-08-30T15:56:30.132531Z",
     "shell.execute_reply.started": "2021-08-30T15:55:35.136869Z"
    },
    "papermill": {
     "duration": 0.062879,
     "end_time": "2021-08-30T15:56:30.132693",
     "exception": false,
     "start_time": "2021-08-30T15:56:30.069814",
     "status": "completed"
    },
    "tags": []
   },
   "outputs": [],
   "source": [
    "def busy_weeks(train_df):\n",
    "    train_df[   'busy week'] = 0 \n",
    "    train_df.loc[train_df[\"weekofyear\"].isin( [4,19,20,22,23,24,33,36,37,44,52]) , 'busy week'] = 1 \n",
    "    train_df['vacant week'] = 0 \n",
    "    train_df.loc[train_df[\"weekofyear\"].isin( [17,21,30,39,43,51]) , 'vacant week'] = 1 \n",
    "    \n",
    "    "
   ]
  },
  {
   "cell_type": "code",
   "execution_count": 24,
   "id": "0d10cc8f",
   "metadata": {
    "execution": {
     "iopub.execute_input": "2021-08-30T15:56:30.244844Z",
     "iopub.status.busy": "2021-08-30T15:56:30.244241Z",
     "iopub.status.idle": "2021-08-30T15:56:30.251667Z",
     "shell.execute_reply": "2021-08-30T15:56:30.251103Z",
     "shell.execute_reply.started": "2021-08-30T15:55:35.146292Z"
    },
    "papermill": {
     "duration": 0.064299,
     "end_time": "2021-08-30T15:56:30.251814",
     "exception": false,
     "start_time": "2021-08-30T15:56:30.187515",
     "status": "completed"
    },
    "tags": []
   },
   "outputs": [],
   "source": [
    "def new_seasons(train_df):\n",
    "    train_df[   'new summer'] = 0 \n",
    "    train_df.loc[train_df[\"dayofyear\"].isin(list(range( 115,310 )))  , 'new summer'] = 1 \n",
    "    train_df['new winter'] = 0 \n",
    "    train_df.loc[train_df[\"dayofyear\"].isin( list(range( 1,61 ))) , 'new winter'] = 1 \n",
    "    train_df.loc[train_df[\"dayofyear\"].isin( list(range( 334,366 ))) , 'new winter'] = 1 \n",
    "    train_df['new spring'] = 0\n",
    "    train_df.loc[train_df[\"dayofyear\"].isin( list(range( 61,115 ))) , 'new spring'] = 1 \n",
    "    train_df.loc[train_df[\"dayofyear\"].isin( list(range( 310,334 ))) , 'new spring'] = 1 \n"
   ]
  },
  {
   "cell_type": "code",
   "execution_count": 25,
   "id": "44085cef",
   "metadata": {
    "execution": {
     "iopub.execute_input": "2021-08-30T15:56:30.366827Z",
     "iopub.status.busy": "2021-08-30T15:56:30.366191Z",
     "iopub.status.idle": "2021-08-30T15:56:30.370041Z",
     "shell.execute_reply": "2021-08-30T15:56:30.370589Z",
     "shell.execute_reply.started": "2021-08-30T15:55:35.164133Z"
    },
    "papermill": {
     "duration": 0.063577,
     "end_time": "2021-08-30T15:56:30.370766",
     "exception": false,
     "start_time": "2021-08-30T15:56:30.307189",
     "status": "completed"
    },
    "tags": []
   },
   "outputs": [],
   "source": [
    "def day_night(df):\n",
    "    df['day or night']=df['Hour'].apply(lambda x : 0 if (x > 20 or x <= 5) else( 1 ))\n"
   ]
  },
  {
   "cell_type": "code",
   "execution_count": 26,
   "id": "71897477",
   "metadata": {
    "execution": {
     "iopub.execute_input": "2021-08-30T15:56:30.483552Z",
     "iopub.status.busy": "2021-08-30T15:56:30.482841Z",
     "iopub.status.idle": "2021-08-30T15:56:30.486792Z",
     "shell.execute_reply": "2021-08-30T15:56:30.487249Z",
     "shell.execute_reply.started": "2021-08-30T15:55:35.181159Z"
    },
    "papermill": {
     "duration": 0.061512,
     "end_time": "2021-08-30T15:56:30.487414",
     "exception": false,
     "start_time": "2021-08-30T15:56:30.425902",
     "status": "completed"
    },
    "tags": []
   },
   "outputs": [],
   "source": [
    "def high_radiation(df):\n",
    "    df['high uv']=df['Solar Radiation'].apply(lambda x : 1 if (x > 0 and x < 1 ) else( 0 ))\n"
   ]
  },
  {
   "cell_type": "code",
   "execution_count": 27,
   "id": "7f0ac56d",
   "metadata": {
    "execution": {
     "iopub.execute_input": "2021-08-30T15:56:30.599446Z",
     "iopub.status.busy": "2021-08-30T15:56:30.598767Z",
     "iopub.status.idle": "2021-08-30T15:56:30.603973Z",
     "shell.execute_reply": "2021-08-30T15:56:30.604491Z",
     "shell.execute_reply.started": "2021-08-30T15:55:35.199453Z"
    },
    "papermill": {
     "duration": 0.062711,
     "end_time": "2021-08-30T15:56:30.604681",
     "exception": false,
     "start_time": "2021-08-30T15:56:30.541970",
     "status": "completed"
    },
    "tags": []
   },
   "outputs": [],
   "source": [
    "def PolynomialOne(train_df):\n",
    "    train_df.loc[(train_df[\"Visibility\"]**2  + train_df[\"Humidity\"]*0.25 ) * ((train_df[\"Temperature\"]*0.0001)**(1)) < 0,\"PolynomialOne\"] = 1\n",
    "    train_df.loc[(train_df[\"Visibility\"]**2  + train_df[\"Humidity\"]*0.25 ) * ((train_df[\"Temperature\"]*0.0001)**(1)) >= 0,\"PolynomialOne\"] = 0"
   ]
  },
  {
   "cell_type": "code",
   "execution_count": 28,
   "id": "28ac88ca",
   "metadata": {
    "execution": {
     "iopub.execute_input": "2021-08-30T15:56:30.716657Z",
     "iopub.status.busy": "2021-08-30T15:56:30.715976Z",
     "iopub.status.idle": "2021-08-30T15:56:30.721433Z",
     "shell.execute_reply": "2021-08-30T15:56:30.720791Z",
     "shell.execute_reply.started": "2021-08-30T15:55:35.213802Z"
    },
    "papermill": {
     "duration": 0.062484,
     "end_time": "2021-08-30T15:56:30.721577",
     "exception": false,
     "start_time": "2021-08-30T15:56:30.659093",
     "status": "completed"
    },
    "tags": []
   },
   "outputs": [],
   "source": [
    "def PolynomialTwo(train_df):\n",
    "    train_df[   'PolyTwo'] = 0 \n",
    "    train_df.loc[ (np.log(train_df[\"Visibility\"])**-2   ) * ((train_df[\"Temperature\"])**(0.5)* train_df[\"Rainfall\"] ) *(train_df[\"Fog\"]) > 0,\"PolyTwo\"] = 1"
   ]
  },
  {
   "cell_type": "code",
   "execution_count": 29,
   "id": "b2721b88",
   "metadata": {
    "execution": {
     "iopub.execute_input": "2021-08-30T15:56:30.839281Z",
     "iopub.status.busy": "2021-08-30T15:56:30.838500Z",
     "iopub.status.idle": "2021-08-30T15:56:30.840781Z",
     "shell.execute_reply": "2021-08-30T15:56:30.841268Z",
     "shell.execute_reply.started": "2021-08-30T15:55:35.233890Z"
    },
    "papermill": {
     "duration": 0.063,
     "end_time": "2021-08-30T15:56:30.841428",
     "exception": false,
     "start_time": "2021-08-30T15:56:30.778428",
     "status": "completed"
    },
    "tags": []
   },
   "outputs": [],
   "source": [
    "def sloarAndTemperature(train_df):\n",
    "    train_df.loc[(train_df[\"Temperature\"]**2 *   train_df[\"Solar Radiation\"]) >= 3000, 'SloarAndTemperature'] = 1 \n",
    "    train_df.loc[(train_df[\"Temperature\"]**2 *   train_df[\"Solar Radiation\"]) < 3000, 'SloarAndTemperature'] = 0"
   ]
  },
  {
   "cell_type": "code",
   "execution_count": 30,
   "id": "6b3dc6bf",
   "metadata": {
    "execution": {
     "iopub.execute_input": "2021-08-30T15:56:30.957230Z",
     "iopub.status.busy": "2021-08-30T15:56:30.956507Z",
     "iopub.status.idle": "2021-08-30T15:56:30.959570Z",
     "shell.execute_reply": "2021-08-30T15:56:30.958904Z",
     "shell.execute_reply.started": "2021-08-30T15:55:35.250585Z"
    },
    "papermill": {
     "duration": 0.065051,
     "end_time": "2021-08-30T15:56:30.959713",
     "exception": false,
     "start_time": "2021-08-30T15:56:30.894662",
     "status": "completed"
    },
    "tags": []
   },
   "outputs": [],
   "source": [
    "def rush_hour_weekday(df):\n",
    "    df['rush_hour_weekday']=df['Hour'].apply(lambda x : 1 if ((x > 5 and x <= 9)or (x > 16 and x <= 20)) else( 0 ))\n",
    "    \n",
    "#Create rush_hour_weekend    \n",
    "def rush_hour_weekend(df):\n",
    "    df['rush_hour_weekend']=df['Hour'].apply(lambda x : 1 if (x >= 12 or x <= 16) else( 0 ))\n",
    "    \n",
    "#Create dead_hour  \n",
    "def dead_hour(df):\n",
    "    df['dead_hour']=df['Hour'].apply(lambda x : 1 if (x >= 1 or x <= 5) else( 0 ))"
   ]
  },
  {
   "cell_type": "code",
   "execution_count": 31,
   "id": "ebf9f552",
   "metadata": {
    "execution": {
     "iopub.execute_input": "2021-08-30T15:56:31.074648Z",
     "iopub.status.busy": "2021-08-30T15:56:31.073889Z",
     "iopub.status.idle": "2021-08-30T15:56:31.076737Z",
     "shell.execute_reply": "2021-08-30T15:56:31.076224Z",
     "shell.execute_reply.started": "2021-08-30T15:55:35.269557Z"
    },
    "papermill": {
     "duration": 0.062109,
     "end_time": "2021-08-30T15:56:31.076871",
     "exception": false,
     "start_time": "2021-08-30T15:56:31.014762",
     "status": "completed"
    },
    "tags": []
   },
   "outputs": [],
   "source": [
    "def savgol(df , col): \n",
    "\n",
    "    box = np.ones(48)/48\n",
    "    df[col+\" smoothed\"] = np.convolve(df[col], box, mode='same')\n",
    "    df[col+\" smoothed\"] = df[col+\" smoothed\"].rolling(window=25).mean()\n",
    "    df[col+\" smoothed\"] = np.convolve(df[col+\" smoothed\"], box, mode='same')"
   ]
  },
  {
   "cell_type": "code",
   "execution_count": 32,
   "id": "1e1b9489",
   "metadata": {
    "execution": {
     "iopub.execute_input": "2021-08-30T15:56:31.188369Z",
     "iopub.status.busy": "2021-08-30T15:56:31.187677Z",
     "iopub.status.idle": "2021-08-30T15:56:31.228967Z",
     "shell.execute_reply": "2021-08-30T15:56:31.229490Z",
     "shell.execute_reply.started": "2021-08-30T15:55:35.284923Z"
    },
    "papermill": {
     "duration": 0.098206,
     "end_time": "2021-08-30T15:56:31.229659",
     "exception": false,
     "start_time": "2021-08-30T15:56:31.131453",
     "status": "completed"
    },
    "tags": []
   },
   "outputs": [
    {
     "data": {
      "text/html": [
       "<div>\n",
       "<style scoped>\n",
       "    .dataframe tbody tr th:only-of-type {\n",
       "        vertical-align: middle;\n",
       "    }\n",
       "\n",
       "    .dataframe tbody tr th {\n",
       "        vertical-align: top;\n",
       "    }\n",
       "\n",
       "    .dataframe thead th {\n",
       "        text-align: right;\n",
       "    }\n",
       "</style>\n",
       "<table border=\"1\" class=\"dataframe\">\n",
       "  <thead>\n",
       "    <tr style=\"text-align: right;\">\n",
       "      <th></th>\n",
       "      <th>ID</th>\n",
       "      <th>Date</th>\n",
       "      <th>y</th>\n",
       "      <th>Hour</th>\n",
       "      <th>Temperature(�C)</th>\n",
       "      <th>Humidity(%)</th>\n",
       "      <th>Wind speed (m/s)</th>\n",
       "      <th>Visibility (10m)</th>\n",
       "      <th>Dew point temperature(�C)</th>\n",
       "      <th>Solar Radiation (MJ/m2)</th>\n",
       "      <th>Rainfall(mm)</th>\n",
       "      <th>Snowfall (cm)</th>\n",
       "      <th>Seasons</th>\n",
       "      <th>Holiday</th>\n",
       "      <th>Functioning Day</th>\n",
       "    </tr>\n",
       "  </thead>\n",
       "  <tbody>\n",
       "    <tr>\n",
       "      <th>0</th>\n",
       "      <td>0</td>\n",
       "      <td>01/12/2017</td>\n",
       "      <td>254</td>\n",
       "      <td>0</td>\n",
       "      <td>-5.2</td>\n",
       "      <td>37</td>\n",
       "      <td>2.2</td>\n",
       "      <td>2000</td>\n",
       "      <td>-17.6</td>\n",
       "      <td>0.0</td>\n",
       "      <td>0.0</td>\n",
       "      <td>0.0</td>\n",
       "      <td>Winter</td>\n",
       "      <td>No Holiday</td>\n",
       "      <td>Yes</td>\n",
       "    </tr>\n",
       "    <tr>\n",
       "      <th>1</th>\n",
       "      <td>1</td>\n",
       "      <td>01/12/2017</td>\n",
       "      <td>204</td>\n",
       "      <td>1</td>\n",
       "      <td>-5.5</td>\n",
       "      <td>38</td>\n",
       "      <td>0.8</td>\n",
       "      <td>2000</td>\n",
       "      <td>-17.6</td>\n",
       "      <td>0.0</td>\n",
       "      <td>0.0</td>\n",
       "      <td>0.0</td>\n",
       "      <td>Winter</td>\n",
       "      <td>No Holiday</td>\n",
       "      <td>Yes</td>\n",
       "    </tr>\n",
       "    <tr>\n",
       "      <th>2</th>\n",
       "      <td>2</td>\n",
       "      <td>01/12/2017</td>\n",
       "      <td>173</td>\n",
       "      <td>2</td>\n",
       "      <td>-6.0</td>\n",
       "      <td>39</td>\n",
       "      <td>1.0</td>\n",
       "      <td>2000</td>\n",
       "      <td>-17.7</td>\n",
       "      <td>0.0</td>\n",
       "      <td>0.0</td>\n",
       "      <td>0.0</td>\n",
       "      <td>Winter</td>\n",
       "      <td>No Holiday</td>\n",
       "      <td>Yes</td>\n",
       "    </tr>\n",
       "    <tr>\n",
       "      <th>3</th>\n",
       "      <td>3</td>\n",
       "      <td>01/12/2017</td>\n",
       "      <td>107</td>\n",
       "      <td>3</td>\n",
       "      <td>-6.2</td>\n",
       "      <td>40</td>\n",
       "      <td>0.9</td>\n",
       "      <td>2000</td>\n",
       "      <td>-17.6</td>\n",
       "      <td>0.0</td>\n",
       "      <td>0.0</td>\n",
       "      <td>0.0</td>\n",
       "      <td>Winter</td>\n",
       "      <td>No Holiday</td>\n",
       "      <td>Yes</td>\n",
       "    </tr>\n",
       "    <tr>\n",
       "      <th>4</th>\n",
       "      <td>4</td>\n",
       "      <td>01/12/2017</td>\n",
       "      <td>78</td>\n",
       "      <td>4</td>\n",
       "      <td>-6.0</td>\n",
       "      <td>36</td>\n",
       "      <td>2.3</td>\n",
       "      <td>2000</td>\n",
       "      <td>-18.6</td>\n",
       "      <td>0.0</td>\n",
       "      <td>0.0</td>\n",
       "      <td>0.0</td>\n",
       "      <td>Winter</td>\n",
       "      <td>No Holiday</td>\n",
       "      <td>Yes</td>\n",
       "    </tr>\n",
       "  </tbody>\n",
       "</table>\n",
       "</div>"
      ],
      "text/plain": [
       "   ID        Date    y  Hour  Temperature(�C)  Humidity(%)  Wind speed (m/s)  \\\n",
       "0   0  01/12/2017  254     0             -5.2           37               2.2   \n",
       "1   1  01/12/2017  204     1             -5.5           38               0.8   \n",
       "2   2  01/12/2017  173     2             -6.0           39               1.0   \n",
       "3   3  01/12/2017  107     3             -6.2           40               0.9   \n",
       "4   4  01/12/2017   78     4             -6.0           36               2.3   \n",
       "\n",
       "   Visibility (10m)  Dew point temperature(�C)  Solar Radiation (MJ/m2)  \\\n",
       "0              2000                      -17.6                      0.0   \n",
       "1              2000                      -17.6                      0.0   \n",
       "2              2000                      -17.7                      0.0   \n",
       "3              2000                      -17.6                      0.0   \n",
       "4              2000                      -18.6                      0.0   \n",
       "\n",
       "   Rainfall(mm)  Snowfall (cm) Seasons     Holiday Functioning Day  \n",
       "0           0.0            0.0  Winter  No Holiday             Yes  \n",
       "1           0.0            0.0  Winter  No Holiday             Yes  \n",
       "2           0.0            0.0  Winter  No Holiday             Yes  \n",
       "3           0.0            0.0  Winter  No Holiday             Yes  \n",
       "4           0.0            0.0  Winter  No Holiday             Yes  "
      ]
     },
     "execution_count": 32,
     "metadata": {},
     "output_type": "execute_result"
    }
   ],
   "source": [
    "train_df=pd.read_csv(\"/kaggle/input/seoul-bike-rental-ai-pro-iti/train.csv\")\n",
    "train_df.head()"
   ]
  },
  {
   "cell_type": "code",
   "execution_count": 33,
   "id": "8eebdfef",
   "metadata": {
    "execution": {
     "iopub.execute_input": "2021-08-30T15:56:31.345209Z",
     "iopub.status.busy": "2021-08-30T15:56:31.344470Z",
     "iopub.status.idle": "2021-08-30T15:56:31.734156Z",
     "shell.execute_reply": "2021-08-30T15:56:31.733208Z",
     "shell.execute_reply.started": "2021-08-30T15:55:35.339628Z"
    },
    "papermill": {
     "duration": 0.449108,
     "end_time": "2021-08-30T15:56:31.734319",
     "exception": false,
     "start_time": "2021-08-30T15:56:31.285211",
     "status": "completed"
    },
    "tags": []
   },
   "outputs": [],
   "source": [
    "def transform_data(train_df):\n",
    "    lag(train_df)\n",
    "    rename_col(train_df)\n",
    "    Add_Fog(train_df)\n",
    "    date_parse(train_df)\n",
    "    train_df = encode_seasons(train_df)\n",
    "    create_working_day(train_df)\n",
    "    cat_rainfall(train_df)\n",
    "    cat_snowfall(train_df)\n",
    "    cat_temperature(train_df)\n",
    "    cat_humidity(train_df)\n",
    "    cat_weather(train_df)\n",
    "    train_df = convert_dtype(train_df)\n",
    "    busy_weeks(train_df)\n",
    "    new_seasons(train_df)\n",
    "    day_night(train_df)\n",
    "    high_radiation(train_df)\n",
    "    sloarAndTemperature(train_df)\n",
    "    \n",
    "    rush_hour_weekday(train_df)\n",
    "    rush_hour_weekend(train_df)\n",
    "    dead_hour(train_df)\n",
    "    \n",
    "    savgol(train_df , 'Temperature')\n",
    "    savgol(train_df , 'Humidity')\n",
    "    savgol(train_df , 'Wind speed')\n",
    "    savgol(train_df , 'Visibility')\n",
    "    savgol(train_df , 'Dew point temperature')\n",
    "    savgol(train_df , 'Solar Radiation')\n",
    "      \n",
    "#     PolynomialOne(train_df)\n",
    "    PolynomialTwo(train_df)\n",
    "#     print(train_df.head())\n",
    "    return train_df\n",
    "train_df = transform_data(train_df)"
   ]
  },
  {
   "cell_type": "code",
   "execution_count": 34,
   "id": "5e6f0bb1",
   "metadata": {
    "execution": {
     "iopub.execute_input": "2021-08-30T15:56:31.850742Z",
     "iopub.status.busy": "2021-08-30T15:56:31.850046Z",
     "iopub.status.idle": "2021-08-30T15:56:31.852783Z",
     "shell.execute_reply": "2021-08-30T15:56:31.852253Z",
     "shell.execute_reply.started": "2021-08-30T15:55:35.889198Z"
    },
    "papermill": {
     "duration": 0.063108,
     "end_time": "2021-08-30T15:56:31.852912",
     "exception": false,
     "start_time": "2021-08-30T15:56:31.789804",
     "status": "completed"
    },
    "tags": []
   },
   "outputs": [],
   "source": [
    "def factorize_data(df):\n",
    "#     df =train_df\n",
    "    values = {\"Yes\": 1, \"No\" : 0}\n",
    "    df['Functioning Day'] = df['Functioning Day'].map(values)\n",
    "    df['Seasons'],_ = pd.factorize(df['Seasons'])\n",
    "    df['Holiday'],_ = pd.factorize(df['Holiday'])\n",
    "    df['weather'],_ = pd.factorize(df['weather'])\n",
    "    \n",
    "#     df.describe()\n",
    "    return df"
   ]
  },
  {
   "cell_type": "code",
   "execution_count": 35,
   "id": "7050759c",
   "metadata": {
    "execution": {
     "iopub.execute_input": "2021-08-30T15:56:31.964842Z",
     "iopub.status.busy": "2021-08-30T15:56:31.964250Z",
     "iopub.status.idle": "2021-08-30T15:56:31.981361Z",
     "shell.execute_reply": "2021-08-30T15:56:31.980587Z",
     "shell.execute_reply.started": "2021-08-30T15:55:35.899671Z"
    },
    "papermill": {
     "duration": 0.073881,
     "end_time": "2021-08-30T15:56:31.981529",
     "exception": false,
     "start_time": "2021-08-30T15:56:31.907648",
     "status": "completed"
    },
    "tags": []
   },
   "outputs": [],
   "source": [
    "df = factorize_data(train_df)\n",
    "df = df[df['y'] != 0]"
   ]
  },
  {
   "cell_type": "code",
   "execution_count": 36,
   "id": "879547bb",
   "metadata": {
    "execution": {
     "iopub.execute_input": "2021-08-30T15:56:32.098801Z",
     "iopub.status.busy": "2021-08-30T15:56:32.098169Z",
     "iopub.status.idle": "2021-08-30T15:56:32.101492Z",
     "shell.execute_reply": "2021-08-30T15:56:32.101971Z",
     "shell.execute_reply.started": "2021-08-30T15:55:35.931074Z"
    },
    "papermill": {
     "duration": 0.065491,
     "end_time": "2021-08-30T15:56:32.102135",
     "exception": false,
     "start_time": "2021-08-30T15:56:32.036644",
     "status": "completed"
    },
    "tags": []
   },
   "outputs": [
    {
     "data": {
      "text/plain": [
       "Index(['ID', 'Date', 'y', 'Hour', 'Temperature', 'Humidity', 'Wind speed',\n",
       "       'Visibility', 'Dew point temperature', 'Solar Radiation', 'Rainfall',\n",
       "       'Snowfall', 'Seasons', 'Holiday', 'Functioning Day',\n",
       "       'Temperature(�C)_lag_1', 'Temperature(�C)_lag_2',\n",
       "       'Temperature(�C)_lag_3', 'Temperature(�C)_lag_-1',\n",
       "       'Temperature(�C)_lag_-2', 'Temperature(�C)_lag_-3', 'Humidity(%)_lag_1',\n",
       "       'Humidity(%)_lag_2', 'Humidity(%)_lag_3', 'Humidity(%)_lag_-1',\n",
       "       'Humidity(%)_lag_-2', 'Humidity(%)_lag_-3', 'Wind speed (m/s)_lag_1',\n",
       "       'Wind speed (m/s)_lag_2', 'Wind speed (m/s)_lag_3',\n",
       "       'Wind speed (m/s)_lag_-1', 'Wind speed (m/s)_lag_-2',\n",
       "       'Wind speed (m/s)_lag_-3', 'Visibility (10m)_lag_1',\n",
       "       'Visibility (10m)_lag_2', 'Visibility (10m)_lag_3',\n",
       "       'Visibility (10m)_lag_-1', 'Visibility (10m)_lag_-2',\n",
       "       'Visibility (10m)_lag_-3', 'Dew point temperature(�C)_lag_1',\n",
       "       'Dew point temperature(�C)_lag_2', 'Dew point temperature(�C)_lag_3',\n",
       "       'Dew point temperature(�C)_lag_-1', 'Dew point temperature(�C)_lag_-2',\n",
       "       'Dew point temperature(�C)_lag_-3', 'Solar Radiation (MJ/m2)_lag_1',\n",
       "       'Solar Radiation (MJ/m2)_lag_2', 'Solar Radiation (MJ/m2)_lag_3',\n",
       "       'Solar Radiation (MJ/m2)_lag_-1', 'Solar Radiation (MJ/m2)_lag_-2',\n",
       "       'Solar Radiation (MJ/m2)_lag_-3', 'Fog', 'year', 'month', 'dayofweek',\n",
       "       'weekofyear', 'dayofyear', 'Seasons_Autumn', 'Seasons_Spring',\n",
       "       'Seasons_Summer', 'Seasons_Winter', 'Working_day', 'Rainfall_cat',\n",
       "       'Snowfall_cat', 'Temperature_cat', 'Humidity_cat', 'weather',\n",
       "       'busy week', 'vacant week', 'new summer', 'new winter', 'new spring',\n",
       "       'day or night', 'high uv', 'SloarAndTemperature', 'rush_hour_weekday',\n",
       "       'rush_hour_weekend', 'dead_hour', 'Temperature smoothed',\n",
       "       'Humidity smoothed', 'Wind speed smoothed', 'Visibility smoothed',\n",
       "       'Dew point temperature smoothed', 'Solar Radiation smoothed',\n",
       "       'PolyTwo'],\n",
       "      dtype='object')"
      ]
     },
     "execution_count": 36,
     "metadata": {},
     "output_type": "execute_result"
    }
   ],
   "source": [
    "df.columns"
   ]
  },
  {
   "cell_type": "code",
   "execution_count": 37,
   "id": "125784bf",
   "metadata": {
    "execution": {
     "iopub.execute_input": "2021-08-30T15:56:32.216033Z",
     "iopub.status.busy": "2021-08-30T15:56:32.215404Z",
     "iopub.status.idle": "2021-08-30T15:56:32.222047Z",
     "shell.execute_reply": "2021-08-30T15:56:32.222606Z",
     "shell.execute_reply.started": "2021-08-30T15:55:35.944360Z"
    },
    "papermill": {
     "duration": 0.06529,
     "end_time": "2021-08-30T15:56:32.222773",
     "exception": false,
     "start_time": "2021-08-30T15:56:32.157483",
     "status": "completed"
    },
    "tags": []
   },
   "outputs": [],
   "source": [
    "features=[ 'Hour',  \n",
    "          'Rainfall',\n",
    "        'Snowfall', 'Seasons', 'Holiday', \n",
    "        'Temperature(�C)_lag_-3','Temperature(�C)_lag_-2', 'Temperature(�C)_lag_-1', 'Temperature',\n",
    "        'Temperature(�C)_lag_1','Temperature(�C)_lag_2', 'Temperature(�C)_lag_3', 'Temperature smoothed',\n",
    "        'Humidity(%)_lag_-3','Humidity(%)_lag_-2','Humidity(%)_lag_-1','Humidity',\n",
    "        'Humidity(%)_lag_1','Humidity(%)_lag_2','Humidity(%)_lag_3', 'Humidity smoothed',\n",
    "        'Wind speed (m/s)_lag_-3','Wind speed (m/s)_lag_-2', 'Wind speed (m/s)_lag_-1','Wind speed',\n",
    "        'Wind speed (m/s)_lag_1','Wind speed (m/s)_lag_2', 'Wind speed (m/s)_lag_3', 'Wind speed smoothed',\n",
    "        'Visibility (10m)_lag_-3', 'Visibility (10m)_lag_-2','Visibility (10m)_lag_-1', 'Visibility',\n",
    "        'Visibility (10m)_lag_1','Visibility (10m)_lag_2','Visibility (10m)_lag_3', 'Visibility smoothed',\n",
    "        'Dew point temperature(�C)_lag_-3','Dew point temperature(�C)_lag_-2', 'Dew point temperature(�C)_lag_-1','Dew point temperature',\n",
    "        'Dew point temperature(�C)_lag_1', 'Dew point temperature(�C)_lag_2','Dew point temperature(�C)_lag_3', 'Dew point temperature smoothed',\n",
    "        'Solar Radiation (MJ/m2)_lag_-3', 'Solar Radiation (MJ/m2)_lag_-2','Solar Radiation (MJ/m2)_lag_-1', 'Solar Radiation',\n",
    "        'Solar Radiation (MJ/m2)_lag_1','Solar Radiation (MJ/m2)_lag_2','Solar Radiation (MJ/m2)_lag_3','Solar Radiation smoothed',  \n",
    "        'Fog', \n",
    "        'month', 'dayofweek', 'weekofyear', 'dayofyear',\n",
    "        'Seasons_Spring',  'Seasons_Winter',\n",
    "       'Working_day', 'Rainfall_cat',   'weather',   'new summer',\n",
    "        'new spring', 'day or night', 'high uv','Temperature_cat',\n",
    "       'Humidity_cat', 'rush_hour_weekday']"
   ]
  },
  {
   "cell_type": "code",
   "execution_count": 38,
   "id": "19f75bbc",
   "metadata": {
    "execution": {
     "iopub.execute_input": "2021-08-30T15:56:32.337157Z",
     "iopub.status.busy": "2021-08-30T15:56:32.336546Z",
     "iopub.status.idle": "2021-08-30T15:56:32.366021Z",
     "shell.execute_reply": "2021-08-30T15:56:32.365470Z",
     "shell.execute_reply.started": "2021-08-30T15:55:36.175729Z"
    },
    "papermill": {
     "duration": 0.087955,
     "end_time": "2021-08-30T15:56:32.366173",
     "exception": false,
     "start_time": "2021-08-30T15:56:32.278218",
     "status": "completed"
    },
    "tags": []
   },
   "outputs": [],
   "source": [
    "from sklearn.model_selection import train_test_split\n",
    "\n",
    "train_df, val_df = train_test_split(df, test_size=0.2, random_state=42) \n",
    "\n",
    "X_train = train_df[features]\n",
    "\n",
    "y_train = np.log(train_df['y'])\n",
    "y_train_2 =train_df['y']\n",
    "X_val = val_df[features]\n",
    "y_val =np.log( val_df['y'])\n",
    "y_val_2 = val_df['y']"
   ]
  },
  {
   "cell_type": "code",
   "execution_count": 39,
   "id": "89cd7b00",
   "metadata": {
    "execution": {
     "iopub.execute_input": "2021-08-30T15:56:32.482214Z",
     "iopub.status.busy": "2021-08-30T15:56:32.481326Z",
     "iopub.status.idle": "2021-08-30T15:56:33.055028Z",
     "shell.execute_reply": "2021-08-30T15:56:33.054422Z",
     "shell.execute_reply.started": "2021-08-30T15:55:36.196313Z"
    },
    "papermill": {
     "duration": 0.633626,
     "end_time": "2021-08-30T15:56:33.055175",
     "exception": false,
     "start_time": "2021-08-30T15:56:32.421549",
     "status": "completed"
    },
    "tags": []
   },
   "outputs": [],
   "source": [
    "import catboost as cb\n",
    "import numpy as np\n",
    "import pandas as pd\n",
    "import seaborn as sns\n",
    "from matplotlib import pyplot as plt\n",
    "from sklearn.model_selection import train_test_split\n",
    "from sklearn.metrics import mean_squared_error\n",
    "from sklearn.metrics import r2_score\n",
    "from sklearn.inspection import permutation_importance"
   ]
  },
  {
   "cell_type": "code",
   "execution_count": 40,
   "id": "2cb05715",
   "metadata": {
    "execution": {
     "iopub.execute_input": "2021-08-30T15:56:33.169579Z",
     "iopub.status.busy": "2021-08-30T15:56:33.168832Z",
     "iopub.status.idle": "2021-08-30T15:56:33.171068Z",
     "shell.execute_reply": "2021-08-30T15:56:33.171547Z",
     "shell.execute_reply.started": "2021-08-30T15:55:36.212806Z"
    },
    "papermill": {
     "duration": 0.061296,
     "end_time": "2021-08-30T15:56:33.171705",
     "exception": false,
     "start_time": "2021-08-30T15:56:33.110409",
     "status": "completed"
    },
    "tags": []
   },
   "outputs": [],
   "source": [
    "# train_dataset = cb.Pool(X_train, y_train) \n",
    "# test_dataset = cb.Pool(X_val, y_val)"
   ]
  },
  {
   "cell_type": "code",
   "execution_count": 41,
   "id": "cba5715d",
   "metadata": {
    "execution": {
     "iopub.execute_input": "2021-08-30T15:56:33.292021Z",
     "iopub.status.busy": "2021-08-30T15:56:33.291366Z",
     "iopub.status.idle": "2021-08-30T15:56:33.293211Z",
     "shell.execute_reply": "2021-08-30T15:56:33.293852Z",
     "shell.execute_reply.started": "2021-08-30T15:55:36.225840Z"
    },
    "papermill": {
     "duration": 0.066154,
     "end_time": "2021-08-30T15:56:33.294039",
     "exception": false,
     "start_time": "2021-08-30T15:56:33.227885",
     "status": "completed"
    },
    "tags": []
   },
   "outputs": [],
   "source": [
    "model = cb.CatBoostRegressor(loss_function='RMSE'   ,depth= 5,\n",
    "    iterations= 2500,\n",
    "     subsample= 0.6,\n",
    "     learning_rate= 0.07,\n",
    "     l2_leaf_reg= 0.0001, silent=True)"
   ]
  },
  {
   "cell_type": "code",
   "execution_count": 42,
   "id": "9d533eb8",
   "metadata": {
    "execution": {
     "iopub.execute_input": "2021-08-30T15:56:33.415074Z",
     "iopub.status.busy": "2021-08-30T15:56:33.414114Z",
     "iopub.status.idle": "2021-08-30T15:56:33.418280Z",
     "shell.execute_reply": "2021-08-30T15:56:33.417791Z",
     "shell.execute_reply.started": "2021-08-30T15:55:36.451027Z"
    },
    "papermill": {
     "duration": 0.067446,
     "end_time": "2021-08-30T15:56:33.418419",
     "exception": false,
     "start_time": "2021-08-30T15:56:33.350973",
     "status": "completed"
    },
    "tags": []
   },
   "outputs": [],
   "source": [
    "# grid = {'iterations': [ 3000, 3500],\n",
    "#         'learning_rate': [0.05, 0.1],\n",
    "#         'depth': [3,4,5],\n",
    "#         'l2_leaf_reg': [0.0001],\n",
    "#        'subsample': [0.5]}\n",
    "# model.grid_search(grid, train_dataset)"
   ]
  },
  {
   "cell_type": "code",
   "execution_count": 43,
   "id": "b2c2650c",
   "metadata": {
    "execution": {
     "iopub.execute_input": "2021-08-30T15:56:33.538508Z",
     "iopub.status.busy": "2021-08-30T15:56:33.537800Z",
     "iopub.status.idle": "2021-08-30T15:56:45.569967Z",
     "shell.execute_reply": "2021-08-30T15:56:45.570432Z",
     "shell.execute_reply.started": "2021-08-30T15:55:36.458684Z"
    },
    "papermill": {
     "duration": 12.096762,
     "end_time": "2021-08-30T15:56:45.570602",
     "exception": false,
     "start_time": "2021-08-30T15:56:33.473840",
     "status": "completed"
    },
    "tags": []
   },
   "outputs": [
    {
     "data": {
      "text/plain": [
       "<catboost.core.CatBoostRegressor at 0x7f39029710d0>"
      ]
     },
     "execution_count": 43,
     "metadata": {},
     "output_type": "execute_result"
    }
   ],
   "source": [
    "model.fit(X_train, y_train)"
   ]
  },
  {
   "cell_type": "code",
   "execution_count": 44,
   "id": "0e43577b",
   "metadata": {
    "execution": {
     "iopub.execute_input": "2021-08-30T15:56:45.693754Z",
     "iopub.status.busy": "2021-08-30T15:56:45.692773Z",
     "iopub.status.idle": "2021-08-30T15:56:45.704236Z",
     "shell.execute_reply": "2021-08-30T15:56:45.702953Z",
     "shell.execute_reply.started": "2021-08-30T15:55:51.090856Z"
    },
    "papermill": {
     "duration": 0.077441,
     "end_time": "2021-08-30T15:56:45.704387",
     "exception": false,
     "start_time": "2021-08-30T15:56:45.626946",
     "status": "completed"
    },
    "tags": []
   },
   "outputs": [
    {
     "name": "stdout",
     "output_type": "stream",
     "text": [
      "“Testing performance”\n",
      "‘RMSE: 0.26’\n",
      "‘R2: 0.95’\n"
     ]
    }
   ],
   "source": [
    "pred = model.predict(X_val)\n",
    "rmse = (np.sqrt(mean_squared_error(y_val, pred)))\n",
    "r2 = r2_score(y_val, pred)\n",
    "print(\"“Testing performance”\")\n",
    "print('‘RMSE: {:.2f}’'.format(rmse))\n",
    "print('‘R2: {:.2f}’'.format(r2))"
   ]
  },
  {
   "cell_type": "code",
   "execution_count": 45,
   "id": "d6954a24",
   "metadata": {
    "execution": {
     "iopub.execute_input": "2021-08-30T15:56:45.823636Z",
     "iopub.status.busy": "2021-08-30T15:56:45.822631Z",
     "iopub.status.idle": "2021-08-30T15:56:45.826971Z",
     "shell.execute_reply": "2021-08-30T15:56:45.827428Z",
     "shell.execute_reply.started": "2021-08-30T15:55:51.109074Z"
    },
    "papermill": {
     "duration": 0.067382,
     "end_time": "2021-08-30T15:56:45.827578",
     "exception": false,
     "start_time": "2021-08-30T15:56:45.760196",
     "status": "completed"
    },
    "tags": []
   },
   "outputs": [
    {
     "name": "stdout",
     "output_type": "stream",
     "text": [
      "MSLE: 0.06406695\n",
      "RMSLE: 0.25311449\n"
     ]
    }
   ],
   "source": [
    "msle = mean_squared_log_error( np.exp(y_val),np.exp( pred) )\n",
    "print(\"MSLE: %.8f\" % msle)\n",
    "\n",
    "print(\"RMSLE: %.8f\" % (msle**(1/2.0)))\n",
    " "
   ]
  },
  {
   "cell_type": "code",
   "execution_count": null,
   "id": "358e7fef",
   "metadata": {
    "papermill": {
     "duration": 0.056071,
     "end_time": "2021-08-30T15:56:45.939374",
     "exception": false,
     "start_time": "2021-08-30T15:56:45.883303",
     "status": "completed"
    },
    "tags": []
   },
   "outputs": [],
   "source": []
  },
  {
   "cell_type": "code",
   "execution_count": 46,
   "id": "936ff08a",
   "metadata": {
    "execution": {
     "iopub.execute_input": "2021-08-30T15:56:46.059467Z",
     "iopub.status.busy": "2021-08-30T15:56:46.058697Z",
     "iopub.status.idle": "2021-08-30T15:56:46.310849Z",
     "shell.execute_reply": "2021-08-30T15:56:46.310281Z",
     "shell.execute_reply.started": "2021-08-30T15:55:51.123648Z"
    },
    "papermill": {
     "duration": 0.313303,
     "end_time": "2021-08-30T15:56:46.311014",
     "exception": false,
     "start_time": "2021-08-30T15:56:45.997711",
     "status": "completed"
    },
    "tags": []
   },
   "outputs": [
    {
     "data": {
      "text/plain": [
       "Index(['ID', 'Date', 'Hour', 'Temperature', 'Humidity', 'Wind speed',\n",
       "       'Visibility', 'Dew point temperature', 'Solar Radiation', 'Rainfall',\n",
       "       'Snowfall', 'Seasons', 'Holiday', 'Functioning Day',\n",
       "       'Temperature(�C)_lag_1', 'Temperature(�C)_lag_2',\n",
       "       'Temperature(�C)_lag_3', 'Temperature(�C)_lag_-1',\n",
       "       'Temperature(�C)_lag_-2', 'Temperature(�C)_lag_-3', 'Humidity(%)_lag_1',\n",
       "       'Humidity(%)_lag_2', 'Humidity(%)_lag_3', 'Humidity(%)_lag_-1',\n",
       "       'Humidity(%)_lag_-2', 'Humidity(%)_lag_-3', 'Wind speed (m/s)_lag_1',\n",
       "       'Wind speed (m/s)_lag_2', 'Wind speed (m/s)_lag_3',\n",
       "       'Wind speed (m/s)_lag_-1', 'Wind speed (m/s)_lag_-2',\n",
       "       'Wind speed (m/s)_lag_-3', 'Visibility (10m)_lag_1',\n",
       "       'Visibility (10m)_lag_2', 'Visibility (10m)_lag_3',\n",
       "       'Visibility (10m)_lag_-1', 'Visibility (10m)_lag_-2',\n",
       "       'Visibility (10m)_lag_-3', 'Dew point temperature(�C)_lag_1',\n",
       "       'Dew point temperature(�C)_lag_2', 'Dew point temperature(�C)_lag_3',\n",
       "       'Dew point temperature(�C)_lag_-1', 'Dew point temperature(�C)_lag_-2',\n",
       "       'Dew point temperature(�C)_lag_-3', 'Solar Radiation (MJ/m2)_lag_1',\n",
       "       'Solar Radiation (MJ/m2)_lag_2', 'Solar Radiation (MJ/m2)_lag_3',\n",
       "       'Solar Radiation (MJ/m2)_lag_-1', 'Solar Radiation (MJ/m2)_lag_-2',\n",
       "       'Solar Radiation (MJ/m2)_lag_-3', 'Fog', 'year', 'month', 'dayofweek',\n",
       "       'weekofyear', 'dayofyear', 'Seasons_Autumn', 'Seasons_Spring',\n",
       "       'Seasons_Summer', 'Seasons_Winter', 'Working_day', 'Rainfall_cat',\n",
       "       'Snowfall_cat', 'Temperature_cat', 'Humidity_cat', 'weather',\n",
       "       'busy week', 'vacant week', 'new summer', 'new winter', 'new spring',\n",
       "       'day or night', 'high uv', 'SloarAndTemperature', 'rush_hour_weekday',\n",
       "       'rush_hour_weekend', 'dead_hour', 'Temperature smoothed',\n",
       "       'Humidity smoothed', 'Wind speed smoothed', 'Visibility smoothed',\n",
       "       'Dew point temperature smoothed', 'Solar Radiation smoothed',\n",
       "       'PolyTwo'],\n",
       "      dtype='object')"
      ]
     },
     "execution_count": 46,
     "metadata": {},
     "output_type": "execute_result"
    }
   ],
   "source": [
    "test_df=pd.read_csv(\"/kaggle/input/seoul-bike-rental-ai-pro-iti/test.csv\")\n",
    "test_df.head()\n",
    "test_df = transform_data(test_df)\n",
    "df = factorize_data(test_df)\n",
    "df.columns"
   ]
  },
  {
   "cell_type": "code",
   "execution_count": 47,
   "id": "ec352fea",
   "metadata": {
    "execution": {
     "iopub.execute_input": "2021-08-30T15:56:46.432533Z",
     "iopub.status.busy": "2021-08-30T15:56:46.431895Z",
     "iopub.status.idle": "2021-08-30T15:56:46.453609Z",
     "shell.execute_reply": "2021-08-30T15:56:46.452739Z",
     "shell.execute_reply.started": "2021-08-30T15:55:51.391066Z"
    },
    "papermill": {
     "duration": 0.084889,
     "end_time": "2021-08-30T15:56:46.453796",
     "exception": false,
     "start_time": "2021-08-30T15:56:46.368907",
     "status": "completed"
    },
    "tags": []
   },
   "outputs": [
    {
     "name": "stderr",
     "output_type": "stream",
     "text": [
      "/opt/conda/lib/python3.7/site-packages/ipykernel_launcher.py:3: SettingWithCopyWarning: \n",
      "A value is trying to be set on a copy of a slice from a DataFrame.\n",
      "Try using .loc[row_indexer,col_indexer] = value instead\n",
      "\n",
      "See the caveats in the documentation: https://pandas.pydata.org/pandas-docs/stable/user_guide/indexing.html#returning-a-view-versus-a-copy\n",
      "  This is separate from the ipykernel package so we can avoid doing imports until\n",
      "/opt/conda/lib/python3.7/site-packages/ipykernel_launcher.py:4: SettingWithCopyWarning: \n",
      "A value is trying to be set on a copy of a slice from a DataFrame.\n",
      "Try using .loc[row_indexer,col_indexer] = value instead\n",
      "\n",
      "See the caveats in the documentation: https://pandas.pydata.org/pandas-docs/stable/user_guide/indexing.html#returning-a-view-versus-a-copy\n",
      "  after removing the cwd from sys.path.\n"
     ]
    }
   ],
   "source": [
    "df1 = df[df['Functioning Day'] != 0]\n",
    "df2 = df[df['Functioning Day'] == 0]\n",
    "df1['y'] = model.predict(df1[features])\n",
    "df2['y'] = 0\n"
   ]
  },
  {
   "cell_type": "code",
   "execution_count": 48,
   "id": "9dcb5052",
   "metadata": {
    "execution": {
     "iopub.execute_input": "2021-08-30T15:56:46.575862Z",
     "iopub.status.busy": "2021-08-30T15:56:46.575259Z",
     "iopub.status.idle": "2021-08-30T15:56:46.587650Z",
     "shell.execute_reply": "2021-08-30T15:56:46.586652Z",
     "shell.execute_reply.started": "2021-08-30T15:55:51.423017Z"
    },
    "papermill": {
     "duration": 0.07541,
     "end_time": "2021-08-30T15:56:46.587916",
     "exception": false,
     "start_time": "2021-08-30T15:56:46.512506",
     "status": "completed"
    },
    "tags": []
   },
   "outputs": [
    {
     "name": "stderr",
     "output_type": "stream",
     "text": [
      "/opt/conda/lib/python3.7/site-packages/ipykernel_launcher.py:1: SettingWithCopyWarning: \n",
      "A value is trying to be set on a copy of a slice from a DataFrame.\n",
      "Try using .loc[row_indexer,col_indexer] = value instead\n",
      "\n",
      "See the caveats in the documentation: https://pandas.pydata.org/pandas-docs/stable/user_guide/indexing.html#returning-a-view-versus-a-copy\n",
      "  \"\"\"Entry point for launching an IPython kernel.\n"
     ]
    }
   ],
   "source": [
    "df1['y'] = np.exp(df1['y'])\n",
    "test = pd.concat([df1,df2])\n"
   ]
  },
  {
   "cell_type": "code",
   "execution_count": 49,
   "id": "6c874d08",
   "metadata": {
    "execution": {
     "iopub.execute_input": "2021-08-30T15:56:46.709592Z",
     "iopub.status.busy": "2021-08-30T15:56:46.708950Z",
     "iopub.status.idle": "2021-08-30T15:56:46.758752Z",
     "shell.execute_reply": "2021-08-30T15:56:46.758154Z",
     "shell.execute_reply.started": "2021-08-30T15:55:51.441855Z"
    },
    "papermill": {
     "duration": 0.111991,
     "end_time": "2021-08-30T15:56:46.758882",
     "exception": false,
     "start_time": "2021-08-30T15:56:46.646891",
     "status": "completed"
    },
    "tags": []
   },
   "outputs": [
    {
     "data": {
      "text/html": [
       "<div>\n",
       "<style scoped>\n",
       "    .dataframe tbody tr th:only-of-type {\n",
       "        vertical-align: middle;\n",
       "    }\n",
       "\n",
       "    .dataframe tbody tr th {\n",
       "        vertical-align: top;\n",
       "    }\n",
       "\n",
       "    .dataframe thead th {\n",
       "        text-align: right;\n",
       "    }\n",
       "</style>\n",
       "<table border=\"1\" class=\"dataframe\">\n",
       "  <thead>\n",
       "    <tr style=\"text-align: right;\">\n",
       "      <th></th>\n",
       "      <th>ID</th>\n",
       "      <th>Date</th>\n",
       "      <th>Hour</th>\n",
       "      <th>Temperature</th>\n",
       "      <th>Humidity</th>\n",
       "      <th>Wind speed</th>\n",
       "      <th>Visibility</th>\n",
       "      <th>Dew point temperature</th>\n",
       "      <th>Solar Radiation</th>\n",
       "      <th>Rainfall</th>\n",
       "      <th>...</th>\n",
       "      <th>rush_hour_weekend</th>\n",
       "      <th>dead_hour</th>\n",
       "      <th>Temperature smoothed</th>\n",
       "      <th>Humidity smoothed</th>\n",
       "      <th>Wind speed smoothed</th>\n",
       "      <th>Visibility smoothed</th>\n",
       "      <th>Dew point temperature smoothed</th>\n",
       "      <th>Solar Radiation smoothed</th>\n",
       "      <th>PolyTwo</th>\n",
       "      <th>y</th>\n",
       "    </tr>\n",
       "  </thead>\n",
       "  <tbody>\n",
       "    <tr>\n",
       "      <th>0</th>\n",
       "      <td>5760</td>\n",
       "      <td>2017-12-21</td>\n",
       "      <td>0</td>\n",
       "      <td>-1.3</td>\n",
       "      <td>90</td>\n",
       "      <td>2.0</td>\n",
       "      <td>259</td>\n",
       "      <td>-2.7</td>\n",
       "      <td>0.0</td>\n",
       "      <td>0.0</td>\n",
       "      <td>...</td>\n",
       "      <td>1</td>\n",
       "      <td>1</td>\n",
       "      <td>NaN</td>\n",
       "      <td>NaN</td>\n",
       "      <td>NaN</td>\n",
       "      <td>NaN</td>\n",
       "      <td>NaN</td>\n",
       "      <td>NaN</td>\n",
       "      <td>0</td>\n",
       "      <td>118.650854</td>\n",
       "    </tr>\n",
       "    <tr>\n",
       "      <th>1</th>\n",
       "      <td>5761</td>\n",
       "      <td>2017-12-21</td>\n",
       "      <td>1</td>\n",
       "      <td>-1.8</td>\n",
       "      <td>90</td>\n",
       "      <td>1.6</td>\n",
       "      <td>263</td>\n",
       "      <td>-3.2</td>\n",
       "      <td>0.0</td>\n",
       "      <td>0.0</td>\n",
       "      <td>...</td>\n",
       "      <td>1</td>\n",
       "      <td>1</td>\n",
       "      <td>NaN</td>\n",
       "      <td>NaN</td>\n",
       "      <td>NaN</td>\n",
       "      <td>NaN</td>\n",
       "      <td>NaN</td>\n",
       "      <td>NaN</td>\n",
       "      <td>0</td>\n",
       "      <td>129.959473</td>\n",
       "    </tr>\n",
       "    <tr>\n",
       "      <th>2</th>\n",
       "      <td>5762</td>\n",
       "      <td>2017-12-21</td>\n",
       "      <td>2</td>\n",
       "      <td>-2.2</td>\n",
       "      <td>88</td>\n",
       "      <td>1.4</td>\n",
       "      <td>348</td>\n",
       "      <td>-3.9</td>\n",
       "      <td>0.0</td>\n",
       "      <td>0.0</td>\n",
       "      <td>...</td>\n",
       "      <td>1</td>\n",
       "      <td>1</td>\n",
       "      <td>NaN</td>\n",
       "      <td>NaN</td>\n",
       "      <td>NaN</td>\n",
       "      <td>NaN</td>\n",
       "      <td>NaN</td>\n",
       "      <td>NaN</td>\n",
       "      <td>0</td>\n",
       "      <td>96.668574</td>\n",
       "    </tr>\n",
       "    <tr>\n",
       "      <th>3</th>\n",
       "      <td>5763</td>\n",
       "      <td>2017-12-21</td>\n",
       "      <td>3</td>\n",
       "      <td>-2.9</td>\n",
       "      <td>89</td>\n",
       "      <td>1.3</td>\n",
       "      <td>288</td>\n",
       "      <td>-4.4</td>\n",
       "      <td>0.0</td>\n",
       "      <td>0.0</td>\n",
       "      <td>...</td>\n",
       "      <td>1</td>\n",
       "      <td>1</td>\n",
       "      <td>NaN</td>\n",
       "      <td>NaN</td>\n",
       "      <td>NaN</td>\n",
       "      <td>NaN</td>\n",
       "      <td>NaN</td>\n",
       "      <td>NaN</td>\n",
       "      <td>0</td>\n",
       "      <td>63.994052</td>\n",
       "    </tr>\n",
       "    <tr>\n",
       "      <th>4</th>\n",
       "      <td>5764</td>\n",
       "      <td>2017-12-21</td>\n",
       "      <td>4</td>\n",
       "      <td>-3.6</td>\n",
       "      <td>91</td>\n",
       "      <td>1.2</td>\n",
       "      <td>241</td>\n",
       "      <td>-4.8</td>\n",
       "      <td>0.0</td>\n",
       "      <td>0.0</td>\n",
       "      <td>...</td>\n",
       "      <td>1</td>\n",
       "      <td>1</td>\n",
       "      <td>NaN</td>\n",
       "      <td>NaN</td>\n",
       "      <td>NaN</td>\n",
       "      <td>NaN</td>\n",
       "      <td>NaN</td>\n",
       "      <td>NaN</td>\n",
       "      <td>0</td>\n",
       "      <td>46.947537</td>\n",
       "    </tr>\n",
       "    <tr>\n",
       "      <th>...</th>\n",
       "      <td>...</td>\n",
       "      <td>...</td>\n",
       "      <td>...</td>\n",
       "      <td>...</td>\n",
       "      <td>...</td>\n",
       "      <td>...</td>\n",
       "      <td>...</td>\n",
       "      <td>...</td>\n",
       "      <td>...</td>\n",
       "      <td>...</td>\n",
       "      <td>...</td>\n",
       "      <td>...</td>\n",
       "      <td>...</td>\n",
       "      <td>...</td>\n",
       "      <td>...</td>\n",
       "      <td>...</td>\n",
       "      <td>...</td>\n",
       "      <td>...</td>\n",
       "      <td>...</td>\n",
       "      <td>...</td>\n",
       "      <td>...</td>\n",
       "    </tr>\n",
       "    <tr>\n",
       "      <th>2995</th>\n",
       "      <td>8755</td>\n",
       "      <td>2018-11-30</td>\n",
       "      <td>19</td>\n",
       "      <td>4.2</td>\n",
       "      <td>34</td>\n",
       "      <td>2.6</td>\n",
       "      <td>1894</td>\n",
       "      <td>-10.3</td>\n",
       "      <td>0.0</td>\n",
       "      <td>0.0</td>\n",
       "      <td>...</td>\n",
       "      <td>1</td>\n",
       "      <td>1</td>\n",
       "      <td>1.890594</td>\n",
       "      <td>23.329809</td>\n",
       "      <td>0.771788</td>\n",
       "      <td>880.399271</td>\n",
       "      <td>-5.285896</td>\n",
       "      <td>0.159696</td>\n",
       "      <td>0</td>\n",
       "      <td>809.571808</td>\n",
       "    </tr>\n",
       "    <tr>\n",
       "      <th>2996</th>\n",
       "      <td>8756</td>\n",
       "      <td>2018-11-30</td>\n",
       "      <td>20</td>\n",
       "      <td>3.4</td>\n",
       "      <td>37</td>\n",
       "      <td>2.3</td>\n",
       "      <td>2000</td>\n",
       "      <td>-9.9</td>\n",
       "      <td>0.0</td>\n",
       "      <td>0.0</td>\n",
       "      <td>...</td>\n",
       "      <td>1</td>\n",
       "      <td>1</td>\n",
       "      <td>1.810585</td>\n",
       "      <td>22.569774</td>\n",
       "      <td>0.742913</td>\n",
       "      <td>848.312396</td>\n",
       "      <td>-5.065167</td>\n",
       "      <td>0.154173</td>\n",
       "      <td>0</td>\n",
       "      <td>654.966052</td>\n",
       "    </tr>\n",
       "    <tr>\n",
       "      <th>2997</th>\n",
       "      <td>8757</td>\n",
       "      <td>2018-11-30</td>\n",
       "      <td>21</td>\n",
       "      <td>2.6</td>\n",
       "      <td>39</td>\n",
       "      <td>0.3</td>\n",
       "      <td>1968</td>\n",
       "      <td>-9.9</td>\n",
       "      <td>0.0</td>\n",
       "      <td>0.0</td>\n",
       "      <td>...</td>\n",
       "      <td>1</td>\n",
       "      <td>1</td>\n",
       "      <td>1.731873</td>\n",
       "      <td>21.800052</td>\n",
       "      <td>0.714194</td>\n",
       "      <td>816.108003</td>\n",
       "      <td>-4.846479</td>\n",
       "      <td>0.148640</td>\n",
       "      <td>0</td>\n",
       "      <td>567.619418</td>\n",
       "    </tr>\n",
       "    <tr>\n",
       "      <th>2998</th>\n",
       "      <td>8758</td>\n",
       "      <td>2018-11-30</td>\n",
       "      <td>22</td>\n",
       "      <td>2.1</td>\n",
       "      <td>41</td>\n",
       "      <td>1.0</td>\n",
       "      <td>1859</td>\n",
       "      <td>-9.8</td>\n",
       "      <td>0.0</td>\n",
       "      <td>0.0</td>\n",
       "      <td>...</td>\n",
       "      <td>1</td>\n",
       "      <td>1</td>\n",
       "      <td>1.654411</td>\n",
       "      <td>21.020434</td>\n",
       "      <td>0.685589</td>\n",
       "      <td>783.801094</td>\n",
       "      <td>-4.629950</td>\n",
       "      <td>0.143099</td>\n",
       "      <td>0</td>\n",
       "      <td>499.308787</td>\n",
       "    </tr>\n",
       "    <tr>\n",
       "      <th>2999</th>\n",
       "      <td>8759</td>\n",
       "      <td>2018-11-30</td>\n",
       "      <td>23</td>\n",
       "      <td>1.9</td>\n",
       "      <td>43</td>\n",
       "      <td>1.3</td>\n",
       "      <td>1909</td>\n",
       "      <td>-9.3</td>\n",
       "      <td>0.0</td>\n",
       "      <td>0.0</td>\n",
       "      <td>...</td>\n",
       "      <td>1</td>\n",
       "      <td>1</td>\n",
       "      <td>1.578155</td>\n",
       "      <td>20.231042</td>\n",
       "      <td>0.657104</td>\n",
       "      <td>751.402899</td>\n",
       "      <td>-4.415595</td>\n",
       "      <td>0.137547</td>\n",
       "      <td>0</td>\n",
       "      <td>339.622985</td>\n",
       "    </tr>\n",
       "  </tbody>\n",
       "</table>\n",
       "<p>3000 rows × 85 columns</p>\n",
       "</div>"
      ],
      "text/plain": [
       "        ID       Date  Hour  Temperature  Humidity  Wind speed  Visibility  \\\n",
       "0     5760 2017-12-21     0         -1.3        90         2.0         259   \n",
       "1     5761 2017-12-21     1         -1.8        90         1.6         263   \n",
       "2     5762 2017-12-21     2         -2.2        88         1.4         348   \n",
       "3     5763 2017-12-21     3         -2.9        89         1.3         288   \n",
       "4     5764 2017-12-21     4         -3.6        91         1.2         241   \n",
       "...    ...        ...   ...          ...       ...         ...         ...   \n",
       "2995  8755 2018-11-30    19          4.2        34         2.6        1894   \n",
       "2996  8756 2018-11-30    20          3.4        37         2.3        2000   \n",
       "2997  8757 2018-11-30    21          2.6        39         0.3        1968   \n",
       "2998  8758 2018-11-30    22          2.1        41         1.0        1859   \n",
       "2999  8759 2018-11-30    23          1.9        43         1.3        1909   \n",
       "\n",
       "      Dew point temperature  Solar Radiation  Rainfall  ...  \\\n",
       "0                      -2.7              0.0       0.0  ...   \n",
       "1                      -3.2              0.0       0.0  ...   \n",
       "2                      -3.9              0.0       0.0  ...   \n",
       "3                      -4.4              0.0       0.0  ...   \n",
       "4                      -4.8              0.0       0.0  ...   \n",
       "...                     ...              ...       ...  ...   \n",
       "2995                  -10.3              0.0       0.0  ...   \n",
       "2996                   -9.9              0.0       0.0  ...   \n",
       "2997                   -9.9              0.0       0.0  ...   \n",
       "2998                   -9.8              0.0       0.0  ...   \n",
       "2999                   -9.3              0.0       0.0  ...   \n",
       "\n",
       "      rush_hour_weekend  dead_hour  Temperature smoothed  Humidity smoothed  \\\n",
       "0                     1          1                   NaN                NaN   \n",
       "1                     1          1                   NaN                NaN   \n",
       "2                     1          1                   NaN                NaN   \n",
       "3                     1          1                   NaN                NaN   \n",
       "4                     1          1                   NaN                NaN   \n",
       "...                 ...        ...                   ...                ...   \n",
       "2995                  1          1              1.890594          23.329809   \n",
       "2996                  1          1              1.810585          22.569774   \n",
       "2997                  1          1              1.731873          21.800052   \n",
       "2998                  1          1              1.654411          21.020434   \n",
       "2999                  1          1              1.578155          20.231042   \n",
       "\n",
       "      Wind speed smoothed  Visibility smoothed  \\\n",
       "0                     NaN                  NaN   \n",
       "1                     NaN                  NaN   \n",
       "2                     NaN                  NaN   \n",
       "3                     NaN                  NaN   \n",
       "4                     NaN                  NaN   \n",
       "...                   ...                  ...   \n",
       "2995             0.771788           880.399271   \n",
       "2996             0.742913           848.312396   \n",
       "2997             0.714194           816.108003   \n",
       "2998             0.685589           783.801094   \n",
       "2999             0.657104           751.402899   \n",
       "\n",
       "      Dew point temperature smoothed  Solar Radiation smoothed  PolyTwo  \\\n",
       "0                                NaN                       NaN        0   \n",
       "1                                NaN                       NaN        0   \n",
       "2                                NaN                       NaN        0   \n",
       "3                                NaN                       NaN        0   \n",
       "4                                NaN                       NaN        0   \n",
       "...                              ...                       ...      ...   \n",
       "2995                       -5.285896                  0.159696        0   \n",
       "2996                       -5.065167                  0.154173        0   \n",
       "2997                       -4.846479                  0.148640        0   \n",
       "2998                       -4.629950                  0.143099        0   \n",
       "2999                       -4.415595                  0.137547        0   \n",
       "\n",
       "               y  \n",
       "0     118.650854  \n",
       "1     129.959473  \n",
       "2      96.668574  \n",
       "3      63.994052  \n",
       "4      46.947537  \n",
       "...          ...  \n",
       "2995  809.571808  \n",
       "2996  654.966052  \n",
       "2997  567.619418  \n",
       "2998  499.308787  \n",
       "2999  339.622985  \n",
       "\n",
       "[3000 rows x 85 columns]"
      ]
     },
     "execution_count": 49,
     "metadata": {},
     "output_type": "execute_result"
    }
   ],
   "source": [
    "test = test.sort_values(by=['ID'])\n",
    "test"
   ]
  },
  {
   "cell_type": "code",
   "execution_count": 50,
   "id": "e2b5115f",
   "metadata": {
    "execution": {
     "iopub.execute_input": "2021-08-30T15:56:46.881486Z",
     "iopub.status.busy": "2021-08-30T15:56:46.880839Z",
     "iopub.status.idle": "2021-08-30T15:56:46.898462Z",
     "shell.execute_reply": "2021-08-30T15:56:46.897856Z",
     "shell.execute_reply.started": "2021-08-30T15:55:51.499555Z"
    },
    "papermill": {
     "duration": 0.081341,
     "end_time": "2021-08-30T15:56:46.898605",
     "exception": false,
     "start_time": "2021-08-30T15:56:46.817264",
     "status": "completed"
    },
    "tags": []
   },
   "outputs": [],
   "source": [
    "test[['ID', 'y']].to_csv('/kaggle/working/submission.csv', index=False)"
   ]
  },
  {
   "cell_type": "code",
   "execution_count": null,
   "id": "5ade82a2",
   "metadata": {
    "papermill": {
     "duration": 0.058304,
     "end_time": "2021-08-30T15:56:47.015579",
     "exception": false,
     "start_time": "2021-08-30T15:56:46.957275",
     "status": "completed"
    },
    "tags": []
   },
   "outputs": [],
   "source": []
  },
  {
   "cell_type": "code",
   "execution_count": null,
   "id": "3816ed61",
   "metadata": {
    "papermill": {
     "duration": 0.05833,
     "end_time": "2021-08-30T15:56:47.132513",
     "exception": false,
     "start_time": "2021-08-30T15:56:47.074183",
     "status": "completed"
    },
    "tags": []
   },
   "outputs": [],
   "source": []
  }
 ],
 "metadata": {
  "kernelspec": {
   "display_name": "Python 3",
   "language": "python",
   "name": "python3"
  },
  "language_info": {
   "codemirror_mode": {
    "name": "ipython",
    "version": 3
   },
   "file_extension": ".py",
   "mimetype": "text/x-python",
   "name": "python",
   "nbconvert_exporter": "python",
   "pygments_lexer": "ipython3",
   "version": "3.7.10"
  },
  "papermill": {
   "default_parameters": {},
   "duration": 32.522961,
   "end_time": "2021-08-30T15:56:48.000154",
   "environment_variables": {},
   "exception": null,
   "input_path": "__notebook__.ipynb",
   "output_path": "__notebook__.ipynb",
   "parameters": {},
   "start_time": "2021-08-30T15:56:15.477193",
   "version": "2.3.3"
  }
 },
 "nbformat": 4,
 "nbformat_minor": 5
}
